{
 "nbformat": 4,
 "nbformat_minor": 0,
 "metadata": {
  "colab": {
   "provenance": []
  },
  "kernelspec": {
   "name": "python3",
   "display_name": "Python 3"
  },
  "language_info": {
   "name": "python"
  }
 },
 "cells": [
  {
   "cell_type": "markdown",
   "source": [
    "### Import libraries & Load data"
   ],
   "metadata": {
    "id": "oEuKOMVv888U"
   }
  },
  {
   "cell_type": "code",
   "execution_count": null,
   "metadata": {
    "colab": {
     "base_uri": "https://localhost:8080/"
    },
    "id": "6PcQyFq580dU",
    "outputId": "4eee84a7-399c-4184-b0c9-ce0615522f1e"
   },
   "outputs": [
    {
     "output_type": "stream",
     "name": "stdout",
     "text": [
      "Looking in indexes: https://pypi.org/simple, https://us-python.pkg.dev/colab-wheels/public/simple/\n",
      "Requirement already satisfied: opencv-python in /usr/local/lib/python3.10/dist-packages (4.7.0.72)\n",
      "Requirement already satisfied: numpy>=1.21.2 in /usr/local/lib/python3.10/dist-packages (from opencv-python) (1.22.4)\n",
      "Looking in indexes: https://pypi.org/simple, https://us-python.pkg.dev/colab-wheels/public/simple/\n",
      "Requirement already satisfied: mediapipe in /usr/local/lib/python3.10/dist-packages (0.10.0)\n",
      "Requirement already satisfied: absl-py in /usr/local/lib/python3.10/dist-packages (from mediapipe) (1.4.0)\n",
      "Requirement already satisfied: attrs>=19.1.0 in /usr/local/lib/python3.10/dist-packages (from mediapipe) (23.1.0)\n",
      "Requirement already satisfied: flatbuffers>=2.0 in /usr/local/lib/python3.10/dist-packages (from mediapipe) (23.3.3)\n",
      "Requirement already satisfied: matplotlib in /usr/local/lib/python3.10/dist-packages (from mediapipe) (3.7.1)\n",
      "Requirement already satisfied: numpy in /usr/local/lib/python3.10/dist-packages (from mediapipe) (1.22.4)\n",
      "Requirement already satisfied: opencv-contrib-python in /usr/local/lib/python3.10/dist-packages (from mediapipe) (4.7.0.72)\n",
      "Requirement already satisfied: protobuf<4,>=3.11 in /usr/local/lib/python3.10/dist-packages (from mediapipe) (3.20.3)\n",
      "Requirement already satisfied: sounddevice>=0.4.4 in /usr/local/lib/python3.10/dist-packages (from mediapipe) (0.4.6)\n",
      "Requirement already satisfied: CFFI>=1.0 in /usr/local/lib/python3.10/dist-packages (from sounddevice>=0.4.4->mediapipe) (1.15.1)\n",
      "Requirement already satisfied: contourpy>=1.0.1 in /usr/local/lib/python3.10/dist-packages (from matplotlib->mediapipe) (1.0.7)\n",
      "Requirement already satisfied: cycler>=0.10 in /usr/local/lib/python3.10/dist-packages (from matplotlib->mediapipe) (0.11.0)\n",
      "Requirement already satisfied: fonttools>=4.22.0 in /usr/local/lib/python3.10/dist-packages (from matplotlib->mediapipe) (4.39.3)\n",
      "Requirement already satisfied: kiwisolver>=1.0.1 in /usr/local/lib/python3.10/dist-packages (from matplotlib->mediapipe) (1.4.4)\n",
      "Requirement already satisfied: packaging>=20.0 in /usr/local/lib/python3.10/dist-packages (from matplotlib->mediapipe) (23.1)\n",
      "Requirement already satisfied: pillow>=6.2.0 in /usr/local/lib/python3.10/dist-packages (from matplotlib->mediapipe) (8.4.0)\n",
      "Requirement already satisfied: pyparsing>=2.3.1 in /usr/local/lib/python3.10/dist-packages (from matplotlib->mediapipe) (3.0.9)\n",
      "Requirement already satisfied: python-dateutil>=2.7 in /usr/local/lib/python3.10/dist-packages (from matplotlib->mediapipe) (2.8.2)\n",
      "Requirement already satisfied: pycparser in /usr/local/lib/python3.10/dist-packages (from CFFI>=1.0->sounddevice>=0.4.4->mediapipe) (2.21)\n",
      "Requirement already satisfied: six>=1.5 in /usr/local/lib/python3.10/dist-packages (from python-dateutil>=2.7->matplotlib->mediapipe) (1.16.0)\n",
      "Looking in indexes: https://pypi.org/simple, https://us-python.pkg.dev/colab-wheels/public/simple/\n",
      "Requirement already satisfied: moviepy in /usr/local/lib/python3.10/dist-packages (1.0.3)\n",
      "Requirement already satisfied: decorator<5.0,>=4.0.2 in /usr/local/lib/python3.10/dist-packages (from moviepy) (4.4.2)\n",
      "Requirement already satisfied: tqdm<5.0,>=4.11.2 in /usr/local/lib/python3.10/dist-packages (from moviepy) (4.65.0)\n",
      "Requirement already satisfied: requests<3.0,>=2.8.1 in /usr/local/lib/python3.10/dist-packages (from moviepy) (2.27.1)\n",
      "Requirement already satisfied: proglog<=1.0.0 in /usr/local/lib/python3.10/dist-packages (from moviepy) (0.1.10)\n",
      "Requirement already satisfied: numpy>=1.17.3 in /usr/local/lib/python3.10/dist-packages (from moviepy) (1.22.4)\n",
      "Requirement already satisfied: imageio<3.0,>=2.5 in /usr/local/lib/python3.10/dist-packages (from moviepy) (2.25.1)\n",
      "Requirement already satisfied: imageio-ffmpeg>=0.2.0 in /usr/local/lib/python3.10/dist-packages (from moviepy) (0.4.8)\n",
      "Requirement already satisfied: pillow>=8.3.2 in /usr/local/lib/python3.10/dist-packages (from imageio<3.0,>=2.5->moviepy) (8.4.0)\n",
      "Requirement already satisfied: urllib3<1.27,>=1.21.1 in /usr/local/lib/python3.10/dist-packages (from requests<3.0,>=2.8.1->moviepy) (1.26.15)\n",
      "Requirement already satisfied: certifi>=2017.4.17 in /usr/local/lib/python3.10/dist-packages (from requests<3.0,>=2.8.1->moviepy) (2022.12.7)\n",
      "Requirement already satisfied: charset-normalizer~=2.0.0 in /usr/local/lib/python3.10/dist-packages (from requests<3.0,>=2.8.1->moviepy) (2.0.12)\n",
      "Requirement already satisfied: idna<4,>=2.5 in /usr/local/lib/python3.10/dist-packages (from requests<3.0,>=2.8.1->moviepy) (3.4)\n"
     ]
    }
   ],
   "source": [
    "!pip install opencv-python\n",
    "!pip install mediapipe\n",
    "!pip install moviepy"
   ]
  },
  {
   "cell_type": "code",
   "source": [
    "import cv2\n",
    "import mediapipe as mp\n",
    "import moviepy.editor as m_editor\n",
    "import csv\n",
    "import glob\n",
    "from os import path"
   ],
   "metadata": {
    "id": "G1DStbjI9KiO"
   },
   "execution_count": null,
   "outputs": []
  },
  {
   "cell_type": "code",
   "source": [
    "## connect to google drive\n",
    "from google.colab import drive\n",
    "drive.mount('/content/drive')"
   ],
   "metadata": {
    "colab": {
     "base_uri": "https://localhost:8080/"
    },
    "id": "SeRRYKSt9QEF",
    "outputId": "b7488975-31c7-4f79-a042-fba83be68b70"
   },
   "execution_count": null,
   "outputs": [
    {
     "output_type": "stream",
     "name": "stdout",
     "text": [
      "Drive already mounted at /content/drive; to attempt to forcibly remount, call drive.mount(\"/content/drive\", force_remount=True).\n"
     ]
    }
   ]
  },
  {
   "cell_type": "code",
   "source": [
    "input_dir = \"/content/drive/MyDrive/train/\"\n",
    "output_dir = \"/content/drive/MyDrive/train-landmarks/\""
   ],
   "metadata": {
    "id": "HLRV30pS9up2"
   },
   "execution_count": null,
   "outputs": []
  },
  {
   "cell_type": "code",
   "source": [
    "mp_drawing = mp.solutions.drawing_utils\n",
    "mp_holistic = mp.solutions.holistic\n",
    "PL = mp_holistic.PoseLandmark\n",
    "HL = mp_holistic.HandLandmark\n",
    "mp_face_mesh = mp.solutions.face_mesh\n",
    "holistic = mp_holistic.Holistic(static_image_mode=False, min_detection_confidence=0.5, min_tracking_confidence=0.5)\n",
    "face_mesh = mp_face_mesh.FaceMesh(static_image_mode=False, max_num_faces=1, min_detection_confidence=0.5)"
   ],
   "metadata": {
    "id": "BVWO6IGK_D18"
   },
   "execution_count": null,
   "outputs": []
  },
  {
   "cell_type": "markdown",
   "source": [
    "### Define Functions"
   ],
   "metadata": {
    "id": "BG5CTD2p_S4E"
   }
  },
  {
   "cell_type": "code",
   "source": [
    "# clip input(.mp4) video to output(.mp4) video\n",
    "# start_time and end_time in seconds\n",
    "def extract_subclip(input, output, start_time, end_time):\n",
    "  original_video = m_editor.VideoFileClip(input)\n",
    "  cut_video = original_video.subclip(start_time, end_time)\n",
    "  cut_video.write_videofile(output, codec=\"libx264\")"
   ],
   "metadata": {
    "id": "HCoJwL3b_bmH"
   },
   "execution_count": null,
   "outputs": []
  },
  {
   "cell_type": "markdown",
   "source": [
    "### Extract coordinates"
   ],
   "metadata": {
    "id": "yWcDDyFh_6lk"
   }
  },
  {
   "cell_type": "code",
   "source": [
    "csv_header = ['width', \n",
    "              'height',\n",
    "              'fps',\n",
    "              'frame',\n",
    "              'PL-LEFT_WRIST',\n",
    "              'PL-RIGHT_WRIST',\n",
    "              'PL-LEFT_ELBOW',\n",
    "              'PL-RIGHT_ELBOW',\n",
    "              'PL-LEFT_SHOULDER',\n",
    "              'PL-RIGHT_SHOULDER',\n",
    "              'PL-LEFT_ANKLE',\n",
    "              'PL-RIGHT_ANKLE',\n",
    "              'PL-LEFT_HIP',\n",
    "              'PL-RIGHT_HIP',\n",
    "              'PL-NOSE',\n",
    "              'LH-INDEX_FINGER_TIP',\n",
    "              'RH-INDEX_FINGER_TIP',\n",
    "              'LH-THUMB_TIP',\n",
    "              'RH-THUMB_TIP',\n",
    "              'LH-MIDDLE_FINGER_TIP',\n",
    "              'RH-MIDDLE_FINGER_TIP',\n",
    "              'LH-MIDDLE_FINGER_MCP',\n",
    "              'RH-MIDDLE_FINGER_MCP',\n",
    "              'LH-RING_FINGER_TIP',\n",
    "              'RH-RING_FINGER_TIP',\n",
    "              'LH-RING_FINGER_MCP',\n",
    "              'RH-RING_FINGER_MCP',\n",
    "              'LH-PINKY_TIP',\n",
    "              'RH-PINKY_TIP',\n",
    "              'LH-PINKY_MCP',\n",
    "              'RH-PINKY_MCP',\n",
    "              'LH-WRIST',\n",
    "              'RH-WRIST',\n",
    "              ]"
   ],
   "metadata": {
    "id": "m7rYh3wpAOAU"
   },
   "execution_count": null,
   "outputs": []
  },
  {
   "cell_type": "code",
   "source": [
    "pattern = input_dir+\"*.mp4\"\n",
    "videos = [path.basename(x) for x in glob.glob(pattern)]\n",
    "print(videos) \n"
   ],
   "metadata": {
    "colab": {
     "base_uri": "https://localhost:8080/"
    },
    "id": "1OgBC1y6A_f9",
    "outputId": "699deb85-74a2-45ec-83d7-b58be8000ca3"
   },
   "execution_count": null,
   "outputs": [
    {
     "output_type": "stream",
     "name": "stdout",
     "text": [
      "['couch.mp4', 'interview.mp4']\n"
     ]
    }
   ]
  },
  {
   "cell_type": "code",
   "source": [
    "for video in videos:\n",
    "  filename = video.split('.')[0]\n",
    "\n",
    "  # define output files\n",
    "  output_csv = output_dir+filename+'-landmarks.csv'\n",
    "  video_cut = output_dir+filename+'-cut.mp4'\n",
    "  video_out = output_dir+filename+'-out.mp4'\n",
    "\n",
    "  # extract subclip of the video\n",
    "  extract_subclip(input_dir+video, video_cut, 0, 60)\n",
    "  # load the video\n",
    "  cap = cv2.VideoCapture(video_cut)\n",
    "\n",
    "  # Get the video dimensions and FPS(input)\n",
    "  width = int(cap.get(cv2.CAP_PROP_FRAME_WIDTH))\n",
    "  height = int(cap.get(cv2.CAP_PROP_FRAME_HEIGHT))\n",
    "  fps = int(cap.get(cv2.CAP_PROP_FPS))\n",
    "\n",
    "  # Initialize the VideoWriter(output)\n",
    "  #fourcc = cv2.VideoWriter_fourcc(*\"mp4v\")  # You can also use \"XVID\" or \"MJPG\" for AVI files\n",
    "  #out = cv2.VideoWriter(video_out, fourcc, fps, (width, height))\n",
    "\n",
    "  with open(output_csv, mode='w', newline='') as csv_file:\n",
    "    writer = csv.writer(csv_file)\n",
    "    writer.writerow(csv_header)\n",
    "\n",
    "    # Process the video frames\n",
    "    frame_number = 0\n",
    "\n",
    "    while cap.isOpened():\n",
    "      ret, frame = cap.read()\n",
    "      if not ret:\n",
    "        break\n",
    "      \n",
    "      # Convert the frame to RGB\n",
    "      frame_rgb = cv2.cvtColor(frame, cv2.COLOR_BGR2RGB)\n",
    "\n",
    "      # Process the frame with MediaPipe's Holistic module\n",
    "      results = holistic.process(frame_rgb)\n",
    "\n",
    "      # Draw holistic landmarks on the frame\n",
    "      if results.pose_landmarks:\n",
    "        current = results.pose_landmarks\n",
    "        current_lh = results.left_hand_landmarks\n",
    "        current_rh = results.right_hand_landmarks\n",
    "\n",
    "        writer.writerow([width, \n",
    "              height,\n",
    "              fps,\n",
    "              frame_number,\n",
    "              current.landmark[PL.LEFT_WRIST],\n",
    "              current.landmark[PL.RIGHT_WRIST],\n",
    "              current.landmark[PL.LEFT_ELBOW],\n",
    "              current.landmark[PL.RIGHT_ELBOW],\n",
    "              current.landmark[PL.LEFT_SHOULDER],\n",
    "              current.landmark[PL.RIGHT_SHOULDER],\n",
    "              current.landmark[PL.LEFT_ANKLE],\n",
    "              current.landmark[PL.RIGHT_ANKLE],\n",
    "              current.landmark[PL.LEFT_HIP],\n",
    "              current.landmark[PL.RIGHT_HIP],\n",
    "              current.landmark[PL.NOSE],\n",
    "              current_lh.landmark[HL.INDEX_FINGER_TIP] if current_lh else None,\n",
    "              current_rh.landmark[HL.INDEX_FINGER_TIP] if current_rh else None,\n",
    "              current_lh.landmark[HL.THUMB_TIP] if current_lh else None,\n",
    "              current_rh.landmark[HL.THUMB_TIP] if current_rh else None,\n",
    "              current_lh.landmark[HL.MIDDLE_FINGER_TIP] if current_lh else None,\n",
    "              current_rh.landmark[HL.MIDDLE_FINGER_TIP] if current_rh else None,\n",
    "              current_lh.landmark[HL.MIDDLE_FINGER_MCP] if current_lh else None,\n",
    "              current_rh.landmark[HL.MIDDLE_FINGER_MCP] if current_rh else None,\n",
    "              current_lh.landmark[HL.RING_FINGER_TIP] if current_lh else None,\n",
    "              current_rh.landmark[HL.RING_FINGER_TIP] if current_rh else None,\n",
    "              current_lh.landmark[HL.RING_FINGER_MCP] if current_lh else None,\n",
    "              current_rh.landmark[HL.RING_FINGER_MCP] if current_rh else None,\n",
    "              current_lh.landmark[HL.PINKY_TIP] if current_lh else None,\n",
    "              current_rh.landmark[HL.PINKY_TIP] if current_rh else None,\n",
    "              current_lh.landmark[HL.PINKY_MCP] if current_lh else None,\n",
    "              current_rh.landmark[HL.PINKY_MCP] if current_rh else None,\n",
    "              current_lh.landmark[HL.WRIST] if current_lh else None,\n",
    "              current_rh.landmark[HL.WRIST] if current_rh else None,\n",
    "              ]\n",
    "                )\n",
    "                \n",
    "      frame_number += 1\n",
    "\n",
    "    cap.release()"
   ],
   "metadata": {
    "colab": {
     "base_uri": "https://localhost:8080/",
     "height": 728
    },
    "id": "Ad0hMXUF_-xg",
    "outputId": "b4f5f2b8-ecc2-42db-f709-e12cac288291"
   },
   "execution_count": null,
   "outputs": [
    {
     "output_type": "stream",
     "name": "stdout",
     "text": [
      "Moviepy - Building video /content/drive/MyDrive/train-landmarks/couch-cut.mp4.\n",
      "MoviePy - Writing audio in couch-cutTEMP_MPY_wvf_snd.mp3\n"
     ]
    },
    {
     "output_type": "stream",
     "name": "stderr",
     "text": []
    },
    {
     "output_type": "stream",
     "name": "stdout",
     "text": [
      "MoviePy - Done.\n",
      "Moviepy - Writing video /content/drive/MyDrive/train-landmarks/couch-cut.mp4\n",
      "\n"
     ]
    },
    {
     "output_type": "stream",
     "name": "stderr",
     "text": [
      "t:  13%|█▎        | 188/1500 [00:07<01:36, 13.59it/s, now=None]"
     ]
    },
    {
     "output_type": "error",
     "ename": "KeyboardInterrupt",
     "evalue": "ignored",
     "traceback": [
      "\u001B[0;31m---------------------------------------------------------------------------\u001B[0m",
      "\u001B[0;31mKeyboardInterrupt\u001B[0m                         Traceback (most recent call last)",
      "\u001B[0;32m/usr/local/lib/python3.10/dist-packages/moviepy/video/io/ffmpeg_writer.py\u001B[0m in \u001B[0;36mffmpeg_write_video\u001B[0;34m(clip, filename, fps, codec, bitrate, preset, withmask, write_logfile, audiofile, verbose, threads, ffmpeg_params, logger)\u001B[0m\n\u001B[1;32m    227\u001B[0m \u001B[0;34m\u001B[0m\u001B[0m\n\u001B[0;32m--> 228\u001B[0;31m             \u001B[0mwriter\u001B[0m\u001B[0;34m.\u001B[0m\u001B[0mwrite_frame\u001B[0m\u001B[0;34m(\u001B[0m\u001B[0mframe\u001B[0m\u001B[0;34m)\u001B[0m\u001B[0;34m\u001B[0m\u001B[0;34m\u001B[0m\u001B[0m\n\u001B[0m\u001B[1;32m    229\u001B[0m \u001B[0;34m\u001B[0m\u001B[0m\n",
      "\u001B[0;32m/usr/local/lib/python3.10/dist-packages/moviepy/video/io/ffmpeg_writer.py\u001B[0m in \u001B[0;36mwrite_frame\u001B[0;34m(self, img_array)\u001B[0m\n\u001B[1;32m    135\u001B[0m             \u001B[0;32mif\u001B[0m \u001B[0mPY3\u001B[0m\u001B[0;34m:\u001B[0m\u001B[0;34m\u001B[0m\u001B[0;34m\u001B[0m\u001B[0m\n\u001B[0;32m--> 136\u001B[0;31m                \u001B[0mself\u001B[0m\u001B[0;34m.\u001B[0m\u001B[0mproc\u001B[0m\u001B[0;34m.\u001B[0m\u001B[0mstdin\u001B[0m\u001B[0;34m.\u001B[0m\u001B[0mwrite\u001B[0m\u001B[0;34m(\u001B[0m\u001B[0mimg_array\u001B[0m\u001B[0;34m.\u001B[0m\u001B[0mtobytes\u001B[0m\u001B[0;34m(\u001B[0m\u001B[0;34m)\u001B[0m\u001B[0;34m)\u001B[0m\u001B[0;34m\u001B[0m\u001B[0;34m\u001B[0m\u001B[0m\n\u001B[0m\u001B[1;32m    137\u001B[0m             \u001B[0;32melse\u001B[0m\u001B[0;34m:\u001B[0m\u001B[0;34m\u001B[0m\u001B[0;34m\u001B[0m\u001B[0m\n",
      "\u001B[0;31mKeyboardInterrupt\u001B[0m: ",
      "\nDuring handling of the above exception, another exception occurred:\n",
      "\u001B[0;31mKeyboardInterrupt\u001B[0m                         Traceback (most recent call last)",
      "\u001B[0;32m<ipython-input-50-7aadbd054f1c>\u001B[0m in \u001B[0;36m<cell line: 1>\u001B[0;34m()\u001B[0m\n\u001B[1;32m      8\u001B[0m \u001B[0;34m\u001B[0m\u001B[0m\n\u001B[1;32m      9\u001B[0m   \u001B[0;31m# extract subclip of the video\u001B[0m\u001B[0;34m\u001B[0m\u001B[0;34m\u001B[0m\u001B[0m\n\u001B[0;32m---> 10\u001B[0;31m   \u001B[0mextract_subclip\u001B[0m\u001B[0;34m(\u001B[0m\u001B[0minput_dir\u001B[0m\u001B[0;34m+\u001B[0m\u001B[0mvideo\u001B[0m\u001B[0;34m,\u001B[0m \u001B[0mvideo_cut\u001B[0m\u001B[0;34m,\u001B[0m \u001B[0;36m0\u001B[0m\u001B[0;34m,\u001B[0m \u001B[0;36m60\u001B[0m\u001B[0;34m)\u001B[0m\u001B[0;34m\u001B[0m\u001B[0;34m\u001B[0m\u001B[0m\n\u001B[0m\u001B[1;32m     11\u001B[0m   \u001B[0;31m# load the video\u001B[0m\u001B[0;34m\u001B[0m\u001B[0;34m\u001B[0m\u001B[0m\n\u001B[1;32m     12\u001B[0m   \u001B[0mcap\u001B[0m \u001B[0;34m=\u001B[0m \u001B[0mcv2\u001B[0m\u001B[0;34m.\u001B[0m\u001B[0mVideoCapture\u001B[0m\u001B[0;34m(\u001B[0m\u001B[0mvideo_cut\u001B[0m\u001B[0;34m)\u001B[0m\u001B[0;34m\u001B[0m\u001B[0;34m\u001B[0m\u001B[0m\n",
      "\u001B[0;32m<ipython-input-46-0fab9e8640bb>\u001B[0m in \u001B[0;36mextract_subclip\u001B[0;34m(input, output, start_time, end_time)\u001B[0m\n\u001B[1;32m      4\u001B[0m   \u001B[0moriginal_video\u001B[0m \u001B[0;34m=\u001B[0m \u001B[0mm_editor\u001B[0m\u001B[0;34m.\u001B[0m\u001B[0mVideoFileClip\u001B[0m\u001B[0;34m(\u001B[0m\u001B[0minput\u001B[0m\u001B[0;34m)\u001B[0m\u001B[0;34m\u001B[0m\u001B[0;34m\u001B[0m\u001B[0m\n\u001B[1;32m      5\u001B[0m   \u001B[0mcut_video\u001B[0m \u001B[0;34m=\u001B[0m \u001B[0moriginal_video\u001B[0m\u001B[0;34m.\u001B[0m\u001B[0msubclip\u001B[0m\u001B[0;34m(\u001B[0m\u001B[0mstart_time\u001B[0m\u001B[0;34m,\u001B[0m \u001B[0mend_time\u001B[0m\u001B[0;34m)\u001B[0m\u001B[0;34m\u001B[0m\u001B[0;34m\u001B[0m\u001B[0m\n\u001B[0;32m----> 6\u001B[0;31m   \u001B[0mcut_video\u001B[0m\u001B[0;34m.\u001B[0m\u001B[0mwrite_videofile\u001B[0m\u001B[0;34m(\u001B[0m\u001B[0moutput\u001B[0m\u001B[0;34m,\u001B[0m \u001B[0mcodec\u001B[0m\u001B[0;34m=\u001B[0m\u001B[0;34m\"libx264\"\u001B[0m\u001B[0;34m)\u001B[0m\u001B[0;34m\u001B[0m\u001B[0;34m\u001B[0m\u001B[0m\n\u001B[0m",
      "\u001B[0;32m<decorator-gen-172>\u001B[0m in \u001B[0;36mwrite_videofile\u001B[0;34m(self, filename, fps, codec, bitrate, audio, audio_fps, preset, audio_nbytes, audio_codec, audio_bitrate, audio_bufsize, temp_audiofile, rewrite_audio, remove_temp, write_logfile, verbose, threads, ffmpeg_params, logger)\u001B[0m\n",
      "\u001B[0;32m/usr/local/lib/python3.10/dist-packages/moviepy/decorators.py\u001B[0m in \u001B[0;36mrequires_duration\u001B[0;34m(f, clip, *a, **k)\u001B[0m\n\u001B[1;32m     52\u001B[0m         \u001B[0;32mraise\u001B[0m \u001B[0mValueError\u001B[0m\u001B[0;34m(\u001B[0m\u001B[0;34m\"Attribute 'duration' not set\"\u001B[0m\u001B[0;34m)\u001B[0m\u001B[0;34m\u001B[0m\u001B[0;34m\u001B[0m\u001B[0m\n\u001B[1;32m     53\u001B[0m     \u001B[0;32melse\u001B[0m\u001B[0;34m:\u001B[0m\u001B[0;34m\u001B[0m\u001B[0;34m\u001B[0m\u001B[0m\n\u001B[0;32m---> 54\u001B[0;31m         \u001B[0;32mreturn\u001B[0m \u001B[0mf\u001B[0m\u001B[0;34m(\u001B[0m\u001B[0mclip\u001B[0m\u001B[0;34m,\u001B[0m \u001B[0;34m*\u001B[0m\u001B[0ma\u001B[0m\u001B[0;34m,\u001B[0m \u001B[0;34m**\u001B[0m\u001B[0mk\u001B[0m\u001B[0;34m)\u001B[0m\u001B[0;34m\u001B[0m\u001B[0;34m\u001B[0m\u001B[0m\n\u001B[0m\u001B[1;32m     55\u001B[0m \u001B[0;34m\u001B[0m\u001B[0m\n\u001B[1;32m     56\u001B[0m \u001B[0;34m\u001B[0m\u001B[0m\n",
      "\u001B[0;32m<decorator-gen-171>\u001B[0m in \u001B[0;36mwrite_videofile\u001B[0;34m(self, filename, fps, codec, bitrate, audio, audio_fps, preset, audio_nbytes, audio_codec, audio_bitrate, audio_bufsize, temp_audiofile, rewrite_audio, remove_temp, write_logfile, verbose, threads, ffmpeg_params, logger)\u001B[0m\n",
      "\u001B[0;32m/usr/local/lib/python3.10/dist-packages/moviepy/decorators.py\u001B[0m in \u001B[0;36muse_clip_fps_by_default\u001B[0;34m(f, clip, *a, **k)\u001B[0m\n\u001B[1;32m    133\u001B[0m              for (k,v) in k.items()}\n\u001B[1;32m    134\u001B[0m \u001B[0;34m\u001B[0m\u001B[0m\n\u001B[0;32m--> 135\u001B[0;31m     \u001B[0;32mreturn\u001B[0m \u001B[0mf\u001B[0m\u001B[0;34m(\u001B[0m\u001B[0mclip\u001B[0m\u001B[0;34m,\u001B[0m \u001B[0;34m*\u001B[0m\u001B[0mnew_a\u001B[0m\u001B[0;34m,\u001B[0m \u001B[0;34m**\u001B[0m\u001B[0mnew_kw\u001B[0m\u001B[0;34m)\u001B[0m\u001B[0;34m\u001B[0m\u001B[0;34m\u001B[0m\u001B[0m\n\u001B[0m",
      "\u001B[0;32m<decorator-gen-170>\u001B[0m in \u001B[0;36mwrite_videofile\u001B[0;34m(self, filename, fps, codec, bitrate, audio, audio_fps, preset, audio_nbytes, audio_codec, audio_bitrate, audio_bufsize, temp_audiofile, rewrite_audio, remove_temp, write_logfile, verbose, threads, ffmpeg_params, logger)\u001B[0m\n",
      "\u001B[0;32m/usr/local/lib/python3.10/dist-packages/moviepy/decorators.py\u001B[0m in \u001B[0;36mconvert_masks_to_RGB\u001B[0;34m(f, clip, *a, **k)\u001B[0m\n\u001B[1;32m     20\u001B[0m     \u001B[0;32mif\u001B[0m \u001B[0mclip\u001B[0m\u001B[0;34m.\u001B[0m\u001B[0mismask\u001B[0m\u001B[0;34m:\u001B[0m\u001B[0;34m\u001B[0m\u001B[0;34m\u001B[0m\u001B[0m\n\u001B[1;32m     21\u001B[0m         \u001B[0mclip\u001B[0m \u001B[0;34m=\u001B[0m \u001B[0mclip\u001B[0m\u001B[0;34m.\u001B[0m\u001B[0mto_RGB\u001B[0m\u001B[0;34m(\u001B[0m\u001B[0;34m)\u001B[0m\u001B[0;34m\u001B[0m\u001B[0;34m\u001B[0m\u001B[0m\n\u001B[0;32m---> 22\u001B[0;31m     \u001B[0;32mreturn\u001B[0m \u001B[0mf\u001B[0m\u001B[0;34m(\u001B[0m\u001B[0mclip\u001B[0m\u001B[0;34m,\u001B[0m \u001B[0;34m*\u001B[0m\u001B[0ma\u001B[0m\u001B[0;34m,\u001B[0m \u001B[0;34m**\u001B[0m\u001B[0mk\u001B[0m\u001B[0;34m)\u001B[0m\u001B[0;34m\u001B[0m\u001B[0;34m\u001B[0m\u001B[0m\n\u001B[0m\u001B[1;32m     23\u001B[0m \u001B[0;34m\u001B[0m\u001B[0m\n\u001B[1;32m     24\u001B[0m \u001B[0;34m@\u001B[0m\u001B[0mdecorator\u001B[0m\u001B[0;34m.\u001B[0m\u001B[0mdecorator\u001B[0m\u001B[0;34m\u001B[0m\u001B[0;34m\u001B[0m\u001B[0m\n",
      "\u001B[0;32m/usr/local/lib/python3.10/dist-packages/moviepy/video/VideoClip.py\u001B[0m in \u001B[0;36mwrite_videofile\u001B[0;34m(self, filename, fps, codec, bitrate, audio, audio_fps, preset, audio_nbytes, audio_codec, audio_bitrate, audio_bufsize, temp_audiofile, rewrite_audio, remove_temp, write_logfile, verbose, threads, ffmpeg_params, logger)\u001B[0m\n\u001B[1;32m    298\u001B[0m                                        logger=logger)\n\u001B[1;32m    299\u001B[0m \u001B[0;34m\u001B[0m\u001B[0m\n\u001B[0;32m--> 300\u001B[0;31m         ffmpeg_write_video(self, filename, fps, codec,\n\u001B[0m\u001B[1;32m    301\u001B[0m                            \u001B[0mbitrate\u001B[0m\u001B[0;34m=\u001B[0m\u001B[0mbitrate\u001B[0m\u001B[0;34m,\u001B[0m\u001B[0;34m\u001B[0m\u001B[0;34m\u001B[0m\u001B[0m\n\u001B[1;32m    302\u001B[0m                            \u001B[0mpreset\u001B[0m\u001B[0;34m=\u001B[0m\u001B[0mpreset\u001B[0m\u001B[0;34m,\u001B[0m\u001B[0;34m\u001B[0m\u001B[0;34m\u001B[0m\u001B[0m\n",
      "\u001B[0;32m/usr/local/lib/python3.10/dist-packages/moviepy/video/io/ffmpeg_writer.py\u001B[0m in \u001B[0;36mffmpeg_write_video\u001B[0;34m(clip, filename, fps, codec, bitrate, preset, withmask, write_logfile, audiofile, verbose, threads, ffmpeg_params, logger)\u001B[0m\n\u001B[1;32m    211\u001B[0m         \u001B[0mlogfile\u001B[0m \u001B[0;34m=\u001B[0m \u001B[0;32mNone\u001B[0m\u001B[0;34m\u001B[0m\u001B[0;34m\u001B[0m\u001B[0m\n\u001B[1;32m    212\u001B[0m     \u001B[0mlogger\u001B[0m\u001B[0;34m(\u001B[0m\u001B[0mmessage\u001B[0m\u001B[0;34m=\u001B[0m\u001B[0;34m'Moviepy - Writing video %s\\n'\u001B[0m \u001B[0;34m%\u001B[0m \u001B[0mfilename\u001B[0m\u001B[0;34m)\u001B[0m\u001B[0;34m\u001B[0m\u001B[0;34m\u001B[0m\u001B[0m\n\u001B[0;32m--> 213\u001B[0;31m     with FFMPEG_VideoWriter(filename, clip.size, fps, codec = codec,\n\u001B[0m\u001B[1;32m    214\u001B[0m                                 \u001B[0mpreset\u001B[0m\u001B[0;34m=\u001B[0m\u001B[0mpreset\u001B[0m\u001B[0;34m,\u001B[0m \u001B[0mbitrate\u001B[0m\u001B[0;34m=\u001B[0m\u001B[0mbitrate\u001B[0m\u001B[0;34m,\u001B[0m \u001B[0mlogfile\u001B[0m\u001B[0;34m=\u001B[0m\u001B[0mlogfile\u001B[0m\u001B[0;34m,\u001B[0m\u001B[0;34m\u001B[0m\u001B[0;34m\u001B[0m\u001B[0m\n\u001B[1;32m    215\u001B[0m                                 \u001B[0maudiofile\u001B[0m\u001B[0;34m=\u001B[0m\u001B[0maudiofile\u001B[0m\u001B[0;34m,\u001B[0m \u001B[0mthreads\u001B[0m\u001B[0;34m=\u001B[0m\u001B[0mthreads\u001B[0m\u001B[0;34m,\u001B[0m\u001B[0;34m\u001B[0m\u001B[0;34m\u001B[0m\u001B[0m\n",
      "\u001B[0;32m/usr/local/lib/python3.10/dist-packages/moviepy/video/io/ffmpeg_writer.py\u001B[0m in \u001B[0;36m__exit__\u001B[0;34m(self, exc_type, exc_value, traceback)\u001B[0m\n\u001B[1;32m    195\u001B[0m \u001B[0;34m\u001B[0m\u001B[0m\n\u001B[1;32m    196\u001B[0m     \u001B[0;32mdef\u001B[0m \u001B[0m__exit__\u001B[0m\u001B[0;34m(\u001B[0m\u001B[0mself\u001B[0m\u001B[0;34m,\u001B[0m \u001B[0mexc_type\u001B[0m\u001B[0;34m,\u001B[0m \u001B[0mexc_value\u001B[0m\u001B[0;34m,\u001B[0m \u001B[0mtraceback\u001B[0m\u001B[0;34m)\u001B[0m\u001B[0;34m:\u001B[0m\u001B[0;34m\u001B[0m\u001B[0;34m\u001B[0m\u001B[0m\n\u001B[0;32m--> 197\u001B[0;31m         \u001B[0mself\u001B[0m\u001B[0;34m.\u001B[0m\u001B[0mclose\u001B[0m\u001B[0;34m(\u001B[0m\u001B[0;34m)\u001B[0m\u001B[0;34m\u001B[0m\u001B[0;34m\u001B[0m\u001B[0m\n\u001B[0m\u001B[1;32m    198\u001B[0m \u001B[0;34m\u001B[0m\u001B[0m\n\u001B[1;32m    199\u001B[0m def ffmpeg_write_video(clip, filename, fps, codec=\"libx264\", bitrate=None,\n",
      "\u001B[0;32m/usr/local/lib/python3.10/dist-packages/moviepy/video/io/ffmpeg_writer.py\u001B[0m in \u001B[0;36mclose\u001B[0;34m(self)\u001B[0m\n\u001B[1;32m    185\u001B[0m             \u001B[0;32mif\u001B[0m \u001B[0mself\u001B[0m\u001B[0;34m.\u001B[0m\u001B[0mproc\u001B[0m\u001B[0;34m.\u001B[0m\u001B[0mstderr\u001B[0m \u001B[0;32mis\u001B[0m \u001B[0;32mnot\u001B[0m \u001B[0;32mNone\u001B[0m\u001B[0;34m:\u001B[0m\u001B[0;34m\u001B[0m\u001B[0;34m\u001B[0m\u001B[0m\n\u001B[1;32m    186\u001B[0m                 \u001B[0mself\u001B[0m\u001B[0;34m.\u001B[0m\u001B[0mproc\u001B[0m\u001B[0;34m.\u001B[0m\u001B[0mstderr\u001B[0m\u001B[0;34m.\u001B[0m\u001B[0mclose\u001B[0m\u001B[0;34m(\u001B[0m\u001B[0;34m)\u001B[0m\u001B[0;34m\u001B[0m\u001B[0;34m\u001B[0m\u001B[0m\n\u001B[0;32m--> 187\u001B[0;31m             \u001B[0mself\u001B[0m\u001B[0;34m.\u001B[0m\u001B[0mproc\u001B[0m\u001B[0;34m.\u001B[0m\u001B[0mwait\u001B[0m\u001B[0;34m(\u001B[0m\u001B[0;34m)\u001B[0m\u001B[0;34m\u001B[0m\u001B[0;34m\u001B[0m\u001B[0m\n\u001B[0m\u001B[1;32m    188\u001B[0m \u001B[0;34m\u001B[0m\u001B[0m\n\u001B[1;32m    189\u001B[0m         \u001B[0mself\u001B[0m\u001B[0;34m.\u001B[0m\u001B[0mproc\u001B[0m \u001B[0;34m=\u001B[0m \u001B[0;32mNone\u001B[0m\u001B[0;34m\u001B[0m\u001B[0;34m\u001B[0m\u001B[0m\n",
      "\u001B[0;32m/usr/lib/python3.10/subprocess.py\u001B[0m in \u001B[0;36mwait\u001B[0;34m(self, timeout)\u001B[0m\n\u001B[1;32m   1207\u001B[0m             \u001B[0mendtime\u001B[0m \u001B[0;34m=\u001B[0m \u001B[0m_time\u001B[0m\u001B[0;34m(\u001B[0m\u001B[0;34m)\u001B[0m \u001B[0;34m+\u001B[0m \u001B[0mtimeout\u001B[0m\u001B[0;34m\u001B[0m\u001B[0;34m\u001B[0m\u001B[0m\n\u001B[1;32m   1208\u001B[0m         \u001B[0;32mtry\u001B[0m\u001B[0;34m:\u001B[0m\u001B[0;34m\u001B[0m\u001B[0;34m\u001B[0m\u001B[0m\n\u001B[0;32m-> 1209\u001B[0;31m             \u001B[0;32mreturn\u001B[0m \u001B[0mself\u001B[0m\u001B[0;34m.\u001B[0m\u001B[0m_wait\u001B[0m\u001B[0;34m(\u001B[0m\u001B[0mtimeout\u001B[0m\u001B[0;34m=\u001B[0m\u001B[0mtimeout\u001B[0m\u001B[0;34m)\u001B[0m\u001B[0;34m\u001B[0m\u001B[0;34m\u001B[0m\u001B[0m\n\u001B[0m\u001B[1;32m   1210\u001B[0m         \u001B[0;32mexcept\u001B[0m \u001B[0mKeyboardInterrupt\u001B[0m\u001B[0;34m:\u001B[0m\u001B[0;34m\u001B[0m\u001B[0;34m\u001B[0m\u001B[0m\n\u001B[1;32m   1211\u001B[0m             \u001B[0;31m# https://bugs.python.org/issue25942\u001B[0m\u001B[0;34m\u001B[0m\u001B[0;34m\u001B[0m\u001B[0m\n",
      "\u001B[0;32m/usr/lib/python3.10/subprocess.py\u001B[0m in \u001B[0;36m_wait\u001B[0;34m(self, timeout)\u001B[0m\n\u001B[1;32m   1957\u001B[0m                         \u001B[0;32mif\u001B[0m \u001B[0mself\u001B[0m\u001B[0;34m.\u001B[0m\u001B[0mreturncode\u001B[0m \u001B[0;32mis\u001B[0m \u001B[0;32mnot\u001B[0m \u001B[0;32mNone\u001B[0m\u001B[0;34m:\u001B[0m\u001B[0;34m\u001B[0m\u001B[0;34m\u001B[0m\u001B[0m\n\u001B[1;32m   1958\u001B[0m                             \u001B[0;32mbreak\u001B[0m  \u001B[0;31m# Another thread waited.\u001B[0m\u001B[0;34m\u001B[0m\u001B[0;34m\u001B[0m\u001B[0m\n\u001B[0;32m-> 1959\u001B[0;31m                         \u001B[0;34m(\u001B[0m\u001B[0mpid\u001B[0m\u001B[0;34m,\u001B[0m \u001B[0msts\u001B[0m\u001B[0;34m)\u001B[0m \u001B[0;34m=\u001B[0m \u001B[0mself\u001B[0m\u001B[0;34m.\u001B[0m\u001B[0m_try_wait\u001B[0m\u001B[0;34m(\u001B[0m\u001B[0;36m0\u001B[0m\u001B[0;34m)\u001B[0m\u001B[0;34m\u001B[0m\u001B[0;34m\u001B[0m\u001B[0m\n\u001B[0m\u001B[1;32m   1960\u001B[0m                         \u001B[0;31m# Check the pid and loop as waitpid has been known to\u001B[0m\u001B[0;34m\u001B[0m\u001B[0;34m\u001B[0m\u001B[0m\n\u001B[1;32m   1961\u001B[0m                         \u001B[0;31m# return 0 even without WNOHANG in odd situations.\u001B[0m\u001B[0;34m\u001B[0m\u001B[0;34m\u001B[0m\u001B[0m\n",
      "\u001B[0;32m/usr/lib/python3.10/subprocess.py\u001B[0m in \u001B[0;36m_try_wait\u001B[0;34m(self, wait_flags)\u001B[0m\n\u001B[1;32m   1915\u001B[0m             \u001B[0;34m\"\"\"All callers to this function MUST hold self._waitpid_lock.\"\"\"\u001B[0m\u001B[0;34m\u001B[0m\u001B[0;34m\u001B[0m\u001B[0m\n\u001B[1;32m   1916\u001B[0m             \u001B[0;32mtry\u001B[0m\u001B[0;34m:\u001B[0m\u001B[0;34m\u001B[0m\u001B[0;34m\u001B[0m\u001B[0m\n\u001B[0;32m-> 1917\u001B[0;31m                 \u001B[0;34m(\u001B[0m\u001B[0mpid\u001B[0m\u001B[0;34m,\u001B[0m \u001B[0msts\u001B[0m\u001B[0;34m)\u001B[0m \u001B[0;34m=\u001B[0m \u001B[0mos\u001B[0m\u001B[0;34m.\u001B[0m\u001B[0mwaitpid\u001B[0m\u001B[0;34m(\u001B[0m\u001B[0mself\u001B[0m\u001B[0;34m.\u001B[0m\u001B[0mpid\u001B[0m\u001B[0;34m,\u001B[0m \u001B[0mwait_flags\u001B[0m\u001B[0;34m)\u001B[0m\u001B[0;34m\u001B[0m\u001B[0;34m\u001B[0m\u001B[0m\n\u001B[0m\u001B[1;32m   1918\u001B[0m             \u001B[0;32mexcept\u001B[0m \u001B[0mChildProcessError\u001B[0m\u001B[0;34m:\u001B[0m\u001B[0;34m\u001B[0m\u001B[0;34m\u001B[0m\u001B[0m\n\u001B[1;32m   1919\u001B[0m                 \u001B[0;31m# This happens if SIGCLD is set to be ignored or waiting\u001B[0m\u001B[0;34m\u001B[0m\u001B[0;34m\u001B[0m\u001B[0m\n",
      "\u001B[0;31mKeyboardInterrupt\u001B[0m: "
     ]
    }
   ]
  }
 ]
}
