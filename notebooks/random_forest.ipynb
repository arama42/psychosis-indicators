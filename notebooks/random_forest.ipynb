{
 "cells": [
  {
   "cell_type": "code",
   "execution_count": 2,
   "metadata": {},
   "outputs": [],
   "source": [
    "import pandas as pd\n",
    "from sklearn.model_selection import train_test_split\n",
    "from sklearn.ensemble import RandomForestClassifier\n",
    "from sklearn.metrics import accuracy_score\n",
    "import os\n",
    "from sklearn.preprocessing import MinMaxScaler"
   ]
  },
  {
   "cell_type": "code",
   "execution_count": 3,
   "metadata": {},
   "outputs": [],
   "source": [
    "def read_csv_file(file_path):\n",
    "    try:\n",
    "        df = pd.read_csv(file_path)\n",
    "        return df\n",
    "    except pd.errors.EmptyDataError:\n",
    "        print(f\"Warning: Empty CSV file found at {file_path}\")\n",
    "        return None\n",
    "    except pd.errors.ParserError:\n",
    "        print(f\"Error: Invalid CSV file found at {file_path}\")\n",
    "        return None\n",
    "\n",
    "# Set the folder path containing the gesture CSV files\n",
    "gesture_folder_path = '../output/gesture'\n",
    "\n",
    "# Create an empty list to store the dataframes for each CSV file\n",
    "dataframes = []\n",
    "\n",
    "# Iterate over each file in the gesture folder\n",
    "for file_name in os.listdir(gesture_folder_path):\n",
    "    if file_name.endswith('.csv'):\n",
    "        file_path = os.path.join(gesture_folder_path, file_name)\n",
    "\n",
    "        # Read the CSV file into a dataframe or handle exceptions\n",
    "        df = read_csv_file(file_path)\n",
    "        if df is not None:\n",
    "            # Add a new column 'video_name' based on the file name\n",
    "            df['video_name'] = file_name\n",
    "            \n",
    "            # Add a new column 'label' based on the file name condition\n",
    "            df['label'] = 0 if file_name.startswith('4') else 1\n",
    "            \n",
    "            dataframes.append(df)\n",
    "\n",
    "# Concatenate all dataframes into a single consolidated dataframe\n",
    "consolidated_data = pd.concat(dataframes, ignore_index=True)"
   ]
  },
  {
   "cell_type": "code",
   "execution_count": 4,
   "metadata": {},
   "outputs": [],
   "source": [
    "consolidated_data.to_csv('../output/gesture/comsolidated_data.csv')"
   ]
  },
  {
   "attachments": {},
   "cell_type": "markdown",
   "metadata": {},
   "source": [
    "1. Data Preparation"
   ]
  },
  {
   "cell_type": "code",
   "execution_count": 11,
   "metadata": {},
   "outputs": [
    {
     "data": {
      "text/plain": [
       "Index(['time_in_seconds', 'frame', 'total_movement_per_second',\n",
       "       'pose_openness', 'leaning', 'head_horizontal', 'head_vertical',\n",
       "       'left_arm_angle', 'left_arm_v_movement', 'left_arm_h_movement',\n",
       "       'right_arm_angle', 'right_arm_v_movement', 'right_arm_h_movement',\n",
       "       'left_hand_orientation', 'left_hand_state', 'right_hand_orientation',\n",
       "       'right_hand_state', 'video_name', 'label'],\n",
       "      dtype='object')"
      ]
     },
     "execution_count": 11,
     "metadata": {},
     "output_type": "execute_result"
    }
   ],
   "source": [
    "consolidated_data.columns"
   ]
  },
  {
   "cell_type": "code",
   "execution_count": 14,
   "metadata": {},
   "outputs": [],
   "source": [
    "# Deal with empty value \n",
    "data_filled = consolidated_data.fillna(method='ffill')"
   ]
  },
  {
   "cell_type": "code",
   "execution_count": 15,
   "metadata": {},
   "outputs": [
    {
     "name": "stdout",
     "output_type": "stream",
     "text": [
      "time_in_seconds              0\n",
      "frame                        0\n",
      "total_movement_per_second    0\n",
      "pose_openness                0\n",
      "leaning                      0\n",
      "head_horizontal              0\n",
      "head_vertical                0\n",
      "left_arm_angle               0\n",
      "left_arm_v_movement          3\n",
      "left_arm_h_movement          0\n",
      "right_arm_angle              0\n",
      "right_arm_v_movement         0\n",
      "right_arm_h_movement         0\n",
      "left_hand_orientation        0\n",
      "left_hand_state              0\n",
      "right_hand_orientation       0\n",
      "right_hand_state             0\n",
      "video_name                   0\n",
      "label                        0\n",
      "dtype: int64\n"
     ]
    }
   ],
   "source": [
    "print(data_filled.isnull().sum())"
   ]
  },
  {
   "cell_type": "code",
   "execution_count": 19,
   "metadata": {},
   "outputs": [],
   "source": [
    "# One hot encoding \n",
    "categorical_cols = ['leaning',\n",
    "                      'head_horizontal', \n",
    "                      'head_vertical', \n",
    "                      'left_arm_v_movement', \n",
    "                      'left_arm_h_movement',\n",
    "                      'right_arm_v_movement',\n",
    "                      'right_arm_h_movement',\n",
    "                      'left_hand_orientation',\n",
    "                      'left_hand_state',\n",
    "                      'right_hand_orientation',\n",
    "                      'right_hand_state']\n",
    "# Apply one-hot encoding to the selected categorical columns\n",
    "data_encoded = pd.get_dummies(data_filled, columns=categorical_cols)"
   ]
  },
  {
   "cell_type": "code",
   "execution_count": 22,
   "metadata": {},
   "outputs": [],
   "source": [
    "# Scaling \n",
    "numerical_cols = ['total_movement_per_second', 'pose_openness', 'left_arm_angle', 'right_arm_angle']\n",
    "# Apply normalization scaling to the selected numerical columns\n",
    "scaler = MinMaxScaler()\n",
    "data_encoded[numerical_cols] = scaler.fit_transform(data_encoded[numerical_cols])\n"
   ]
  },
  {
   "attachments": {},
   "cell_type": "markdown",
   "metadata": {},
   "source": [
    "A random forest model"
   ]
  },
  {
   "cell_type": "code",
   "execution_count": 25,
   "metadata": {},
   "outputs": [
    {
     "data": {
      "text/plain": [
       "Index(['time_in_seconds', 'frame', 'total_movement_per_second',\n",
       "       'pose_openness', 'left_arm_angle', 'right_arm_angle', 'video_name',\n",
       "       'label', 'leaning_Backward', 'leaning_Forward', 'head_horizontal_LEFT',\n",
       "       'head_horizontal_RIGHT', 'head_horizontal_STILL', 'head_vertical_DOWN',\n",
       "       'head_vertical_STILL', 'head_vertical_UP', 'left_arm_v_movement_DOWN',\n",
       "       'left_arm_v_movement_UP', 'left_arm_h_movement_CALCULATING',\n",
       "       'left_arm_h_movement_FORWARD', 'right_arm_v_movement_DOWN',\n",
       "       'right_arm_v_movement_UP', 'right_arm_h_movement_CALCULATING',\n",
       "       'right_arm_h_movement_FORWARD', 'left_hand_orientation_Down',\n",
       "       'left_hand_orientation_Left', 'left_hand_orientation_Right',\n",
       "       'left_hand_orientation_Up', 'left_hand_state_OPEN',\n",
       "       'right_hand_orientation_Down', 'right_hand_orientation_Left',\n",
       "       'right_hand_orientation_Right', 'right_hand_orientation_Up',\n",
       "       'right_hand_state_OPEN'],\n",
       "      dtype='object')"
      ]
     },
     "execution_count": 25,
     "metadata": {},
     "output_type": "execute_result"
    }
   ],
   "source": [
    "data_encoded.columns"
   ]
  },
  {
   "cell_type": "code",
   "execution_count": 26,
   "metadata": {},
   "outputs": [
    {
     "name": "stdout",
     "output_type": "stream",
     "text": [
      "Accuracy: 1.0\n"
     ]
    }
   ],
   "source": [
    "import pandas as pd\n",
    "from sklearn.ensemble import RandomForestClassifier\n",
    "from sklearn.model_selection import train_test_split\n",
    "from sklearn.metrics import accuracy_score\n",
    "\n",
    "# Split the data into features (X) and target (y)\n",
    "X = data_encoded.drop(['time_in_seconds', 'frame', 'video_name', 'label'], axis=1)\n",
    "y = data_encoded['label']\n",
    "\n",
    "# Split the data into training and testing sets\n",
    "X_train, X_test, y_train, y_test = train_test_split(X, y, test_size=0.2, random_state=42)\n",
    "\n",
    "# Create a random forest classifier\n",
    "rf_model = RandomForestClassifier(n_estimators=100, random_state=42)\n",
    "\n",
    "# Train the model on the training set\n",
    "rf_model.fit(X_train, y_train)\n",
    "\n",
    "# Make predictions on the testing set\n",
    "y_pred = rf_model.predict(X_test)\n",
    "\n",
    "# Calculate the accuracy of the model\n",
    "accuracy = accuracy_score(y_test, y_pred)\n",
    "print(f\"Accuracy: {accuracy}\")"
   ]
  },
  {
   "cell_type": "code",
   "execution_count": null,
   "metadata": {},
   "outputs": [],
   "source": []
  }
 ],
 "metadata": {
  "kernelspec": {
   "display_name": "base",
   "language": "python",
   "name": "python3"
  },
  "language_info": {
   "codemirror_mode": {
    "name": "ipython",
    "version": 3
   },
   "file_extension": ".py",
   "mimetype": "text/x-python",
   "name": "python",
   "nbconvert_exporter": "python",
   "pygments_lexer": "ipython3",
   "version": "3.10.10"
  },
  "orig_nbformat": 4
 },
 "nbformat": 4,
 "nbformat_minor": 2
}
