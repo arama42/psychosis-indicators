{
  "cells": [
    {
      "attachments": {},
      "cell_type": "markdown",
      "metadata": {
        "id": "YGLuYN-29bGm"
      },
      "source": [
        "### Import dependencies and load data"
      ]
    },
    {
      "cell_type": "code",
      "execution_count": 62,
      "metadata": {
        "colab": {
          "base_uri": "https://localhost:8080/"
        },
        "id": "ZyKyMKwN9Zb3",
        "outputId": "fe8ed69d-007e-4c1e-f288-faab3b101191"
      },
      "outputs": [
        {
          "name": "stdout",
          "output_type": "stream",
          "text": [
            "Requirement already satisfied: opencv-python in c:\\users\\rcz8260\\appdata\\local\\miniconda3\\lib\\site-packages (4.7.0.72)\n",
            "Requirement already satisfied: numpy>=1.21.2 in c:\\users\\rcz8260\\appdata\\local\\miniconda3\\lib\\site-packages (from opencv-python) (1.23.5)\n",
            "Requirement already satisfied: mediapipe in c:\\users\\rcz8260\\appdata\\local\\miniconda3\\lib\\site-packages (0.9.3.0)\n",
            "Requirement already satisfied: absl-py in c:\\users\\rcz8260\\appdata\\local\\miniconda3\\lib\\site-packages (from mediapipe) (1.4.0)\n",
            "Requirement already satisfied: attrs>=19.1.0 in c:\\users\\rcz8260\\appdata\\local\\miniconda3\\lib\\site-packages (from mediapipe) (23.1.0)\n",
            "Requirement already satisfied: flatbuffers>=2.0 in c:\\users\\rcz8260\\appdata\\local\\miniconda3\\lib\\site-packages (from mediapipe) (23.3.3)\n",
            "Requirement already satisfied: matplotlib in c:\\users\\rcz8260\\appdata\\local\\miniconda3\\lib\\site-packages (from mediapipe) (3.7.1)\n",
            "Requirement already satisfied: numpy in c:\\users\\rcz8260\\appdata\\local\\miniconda3\\lib\\site-packages (from mediapipe) (1.23.5)\n",
            "Requirement already satisfied: opencv-contrib-python in c:\\users\\rcz8260\\appdata\\local\\miniconda3\\lib\\site-packages (from mediapipe) (4.7.0.72)\n",
            "Requirement already satisfied: protobuf<4,>=3.11 in c:\\users\\rcz8260\\appdata\\local\\miniconda3\\lib\\site-packages (from mediapipe) (3.20.3)\n",
            "Requirement already satisfied: sounddevice>=0.4.4 in c:\\users\\rcz8260\\appdata\\local\\miniconda3\\lib\\site-packages (from mediapipe) (0.4.6)\n",
            "Requirement already satisfied: CFFI>=1.0 in c:\\users\\rcz8260\\appdata\\local\\miniconda3\\lib\\site-packages (from sounddevice>=0.4.4->mediapipe) (1.15.1)\n",
            "Requirement already satisfied: contourpy>=1.0.1 in c:\\users\\rcz8260\\appdata\\local\\miniconda3\\lib\\site-packages (from matplotlib->mediapipe) (1.0.7)\n",
            "Requirement already satisfied: cycler>=0.10 in c:\\users\\rcz8260\\appdata\\local\\miniconda3\\lib\\site-packages (from matplotlib->mediapipe) (0.11.0)\n",
            "Requirement already satisfied: fonttools>=4.22.0 in c:\\users\\rcz8260\\appdata\\local\\miniconda3\\lib\\site-packages (from matplotlib->mediapipe) (4.39.3)\n",
            "Requirement already satisfied: kiwisolver>=1.0.1 in c:\\users\\rcz8260\\appdata\\local\\miniconda3\\lib\\site-packages (from matplotlib->mediapipe) (1.4.4)\n",
            "Requirement already satisfied: packaging>=20.0 in c:\\users\\rcz8260\\appdata\\local\\miniconda3\\lib\\site-packages (from matplotlib->mediapipe) (23.0)\n",
            "Requirement already satisfied: pillow>=6.2.0 in c:\\users\\rcz8260\\appdata\\local\\miniconda3\\lib\\site-packages (from matplotlib->mediapipe) (9.5.0)\n",
            "Requirement already satisfied: pyparsing>=2.3.1 in c:\\users\\rcz8260\\appdata\\local\\miniconda3\\lib\\site-packages (from matplotlib->mediapipe) (3.0.9)\n",
            "Requirement already satisfied: python-dateutil>=2.7 in c:\\users\\rcz8260\\appdata\\local\\miniconda3\\lib\\site-packages (from matplotlib->mediapipe) (2.8.2)\n",
            "Requirement already satisfied: pycparser in c:\\users\\rcz8260\\appdata\\local\\miniconda3\\lib\\site-packages (from CFFI>=1.0->sounddevice>=0.4.4->mediapipe) (2.21)\n",
            "Requirement already satisfied: six>=1.5 in c:\\users\\rcz8260\\appdata\\local\\miniconda3\\lib\\site-packages (from python-dateutil>=2.7->matplotlib->mediapipe) (1.16.0)\n",
            "Requirement already satisfied: moviepy in c:\\users\\rcz8260\\appdata\\local\\miniconda3\\lib\\site-packages (1.0.3)\n",
            "Requirement already satisfied: decorator<5.0,>=4.0.2 in c:\\users\\rcz8260\\appdata\\local\\miniconda3\\lib\\site-packages (from moviepy) (4.4.2)\n",
            "Requirement already satisfied: tqdm<5.0,>=4.11.2 in c:\\users\\rcz8260\\appdata\\local\\miniconda3\\lib\\site-packages (from moviepy) (4.65.0)\n",
            "Requirement already satisfied: requests<3.0,>=2.8.1 in c:\\users\\rcz8260\\appdata\\local\\miniconda3\\lib\\site-packages (from moviepy) (2.28.1)\n",
            "Requirement already satisfied: proglog<=1.0.0 in c:\\users\\rcz8260\\appdata\\local\\miniconda3\\lib\\site-packages (from moviepy) (0.1.10)\n",
            "Requirement already satisfied: numpy>=1.17.3 in c:\\users\\rcz8260\\appdata\\local\\miniconda3\\lib\\site-packages (from moviepy) (1.23.5)\n",
            "Requirement already satisfied: imageio<3.0,>=2.5 in c:\\users\\rcz8260\\appdata\\local\\miniconda3\\lib\\site-packages (from moviepy) (2.28.1)\n",
            "Requirement already satisfied: imageio-ffmpeg>=0.2.0 in c:\\users\\rcz8260\\appdata\\local\\miniconda3\\lib\\site-packages (from moviepy) (0.4.8)\n",
            "Requirement already satisfied: pillow>=8.3.2 in c:\\users\\rcz8260\\appdata\\local\\miniconda3\\lib\\site-packages (from imageio<3.0,>=2.5->moviepy) (9.5.0)\n",
            "Requirement already satisfied: charset-normalizer<3,>=2 in c:\\users\\rcz8260\\appdata\\local\\miniconda3\\lib\\site-packages (from requests<3.0,>=2.8.1->moviepy) (2.0.4)\n",
            "Requirement already satisfied: idna<4,>=2.5 in c:\\users\\rcz8260\\appdata\\local\\miniconda3\\lib\\site-packages (from requests<3.0,>=2.8.1->moviepy) (3.4)\n",
            "Requirement already satisfied: urllib3<1.27,>=1.21.1 in c:\\users\\rcz8260\\appdata\\local\\miniconda3\\lib\\site-packages (from requests<3.0,>=2.8.1->moviepy) (1.26.15)\n",
            "Requirement already satisfied: certifi>=2017.4.17 in c:\\users\\rcz8260\\appdata\\local\\miniconda3\\lib\\site-packages (from requests<3.0,>=2.8.1->moviepy) (2023.5.7)\n",
            "Requirement already satisfied: colorama in c:\\users\\rcz8260\\appdata\\local\\miniconda3\\lib\\site-packages (from tqdm<5.0,>=4.11.2->moviepy) (0.4.6)\n",
            "Requirement already satisfied: SpeechRecognition in c:\\users\\rcz8260\\appdata\\local\\miniconda3\\lib\\site-packages (3.10.0)\n",
            "Requirement already satisfied: requests>=2.26.0 in c:\\users\\rcz8260\\appdata\\local\\miniconda3\\lib\\site-packages (from SpeechRecognition) (2.28.1)\n",
            "Requirement already satisfied: charset-normalizer<3,>=2 in c:\\users\\rcz8260\\appdata\\local\\miniconda3\\lib\\site-packages (from requests>=2.26.0->SpeechRecognition) (2.0.4)\n",
            "Requirement already satisfied: idna<4,>=2.5 in c:\\users\\rcz8260\\appdata\\local\\miniconda3\\lib\\site-packages (from requests>=2.26.0->SpeechRecognition) (3.4)\n",
            "Requirement already satisfied: urllib3<1.27,>=1.21.1 in c:\\users\\rcz8260\\appdata\\local\\miniconda3\\lib\\site-packages (from requests>=2.26.0->SpeechRecognition) (1.26.15)\n",
            "Requirement already satisfied: certifi>=2017.4.17 in c:\\users\\rcz8260\\appdata\\local\\miniconda3\\lib\\site-packages (from requests>=2.26.0->SpeechRecognition) (2023.5.7)\n",
            "Requirement already satisfied: librosa in c:\\users\\rcz8260\\appdata\\local\\miniconda3\\lib\\site-packages (0.10.0.post2)\n",
            "Requirement already satisfied: audioread>=2.1.9 in c:\\users\\rcz8260\\appdata\\local\\miniconda3\\lib\\site-packages (from librosa) (3.0.0)\n",
            "Requirement already satisfied: numpy!=1.22.0,!=1.22.1,!=1.22.2,>=1.20.3 in c:\\users\\rcz8260\\appdata\\local\\miniconda3\\lib\\site-packages (from librosa) (1.23.5)\n",
            "Requirement already satisfied: scipy>=1.2.0 in c:\\users\\rcz8260\\appdata\\local\\miniconda3\\lib\\site-packages (from librosa) (1.10.1)\n",
            "Requirement already satisfied: scikit-learn>=0.20.0 in c:\\users\\rcz8260\\appdata\\local\\miniconda3\\lib\\site-packages (from librosa) (1.2.2)\n",
            "Requirement already satisfied: joblib>=0.14 in c:\\users\\rcz8260\\appdata\\local\\miniconda3\\lib\\site-packages (from librosa) (1.2.0)\n",
            "Requirement already satisfied: decorator>=4.3.0 in c:\\users\\rcz8260\\appdata\\local\\miniconda3\\lib\\site-packages (from librosa) (4.4.2)\n",
            "Requirement already satisfied: numba>=0.51.0 in c:\\users\\rcz8260\\appdata\\local\\miniconda3\\lib\\site-packages (from librosa) (0.57.0)\n",
            "Requirement already satisfied: soundfile>=0.12.1 in c:\\users\\rcz8260\\appdata\\local\\miniconda3\\lib\\site-packages (from librosa) (0.12.1)\n",
            "Requirement already satisfied: pooch<1.7,>=1.0 in c:\\users\\rcz8260\\appdata\\local\\miniconda3\\lib\\site-packages (from librosa) (1.6.0)\n",
            "Requirement already satisfied: soxr>=0.3.2 in c:\\users\\rcz8260\\appdata\\local\\miniconda3\\lib\\site-packages (from librosa) (0.3.5)\n",
            "Requirement already satisfied: typing-extensions>=4.1.1 in c:\\users\\rcz8260\\appdata\\local\\miniconda3\\lib\\site-packages (from librosa) (4.5.0)\n",
            "Requirement already satisfied: lazy-loader>=0.1 in c:\\users\\rcz8260\\appdata\\local\\miniconda3\\lib\\site-packages (from librosa) (0.2)\n",
            "Requirement already satisfied: msgpack>=1.0 in c:\\users\\rcz8260\\appdata\\local\\miniconda3\\lib\\site-packages (from librosa) (1.0.5)\n",
            "Requirement already satisfied: llvmlite<0.41,>=0.40.0dev0 in c:\\users\\rcz8260\\appdata\\local\\miniconda3\\lib\\site-packages (from numba>=0.51.0->librosa) (0.40.0)\n",
            "Requirement already satisfied: appdirs>=1.3.0 in c:\\users\\rcz8260\\appdata\\local\\miniconda3\\lib\\site-packages (from pooch<1.7,>=1.0->librosa) (1.4.4)\n",
            "Requirement already satisfied: packaging>=20.0 in c:\\users\\rcz8260\\appdata\\local\\miniconda3\\lib\\site-packages (from pooch<1.7,>=1.0->librosa) (23.0)\n",
            "Requirement already satisfied: requests>=2.19.0 in c:\\users\\rcz8260\\appdata\\local\\miniconda3\\lib\\site-packages (from pooch<1.7,>=1.0->librosa) (2.28.1)\n",
            "Requirement already satisfied: threadpoolctl>=2.0.0 in c:\\users\\rcz8260\\appdata\\local\\miniconda3\\lib\\site-packages (from scikit-learn>=0.20.0->librosa) (3.1.0)\n",
            "Requirement already satisfied: cffi>=1.0 in c:\\users\\rcz8260\\appdata\\local\\miniconda3\\lib\\site-packages (from soundfile>=0.12.1->librosa) (1.15.1)\n",
            "Requirement already satisfied: pycparser in c:\\users\\rcz8260\\appdata\\local\\miniconda3\\lib\\site-packages (from cffi>=1.0->soundfile>=0.12.1->librosa) (2.21)\n",
            "Requirement already satisfied: charset-normalizer<3,>=2 in c:\\users\\rcz8260\\appdata\\local\\miniconda3\\lib\\site-packages (from requests>=2.19.0->pooch<1.7,>=1.0->librosa) (2.0.4)\n",
            "Requirement already satisfied: idna<4,>=2.5 in c:\\users\\rcz8260\\appdata\\local\\miniconda3\\lib\\site-packages (from requests>=2.19.0->pooch<1.7,>=1.0->librosa) (3.4)\n",
            "Requirement already satisfied: urllib3<1.27,>=1.21.1 in c:\\users\\rcz8260\\appdata\\local\\miniconda3\\lib\\site-packages (from requests>=2.19.0->pooch<1.7,>=1.0->librosa) (1.26.15)\n",
            "Requirement already satisfied: certifi>=2017.4.17 in c:\\users\\rcz8260\\appdata\\local\\miniconda3\\lib\\site-packages (from requests>=2.19.0->pooch<1.7,>=1.0->librosa) (2023.5.7)\n"
          ]
        }
      ],
      "source": [
        "!pip install opencv-python\n",
        "!pip install mediapipe\n",
        "!pip install moviepy\n",
        "!pip install SpeechRecognition\n",
        "!pip install librosa\n",
        "!pip install pandas"
      ]
    },
    {
      "cell_type": "code",
      "execution_count": 63,
      "metadata": {
        "id": "TCXF8tkl9g0j"
      },
      "outputs": [],
      "source": [
        "import cv2\n",
        "import mediapipe as mp\n",
        "import numpy as np\n",
        "import glob\n",
        "from scipy.spatial import ConvexHull\n",
        "import math\n",
        "import csv\n",
        "\n",
        "from moviepy.video.io.ffmpeg_tools import ffmpeg_extract_subclip\n",
        "import librosa\n",
        "from moviepy.editor import VideoFileClip\n",
        "import speech_recognition as sr\n",
        "import moviepy.editor as m_editor\n",
        "\n",
        "import pandas as pd"
      ]
    },
    {
      "cell_type": "code",
      "execution_count": 64,
      "metadata": {
        "colab": {
          "base_uri": "https://localhost:8080/"
        },
        "id": "U5hTw3L3_BiP",
        "outputId": "88502aa3-4014-43fb-f161-db675ba0ccdc"
      },
      "outputs": [],
      "source": [
        "## connect to google drive\n",
        "# from google.colab import drive\n",
        "# drive.mount('/content/drive')"
      ]
    },
    {
      "cell_type": "code",
      "execution_count": 65,
      "metadata": {
        "id": "tXa5ci4G_Ip_"
      },
      "outputs": [],
      "source": [
        "# video = \"/content/drive/MyDrive/interview.mp4\"\n",
        "# video_cut = \"/content/drive/MyDrive/interview-cut.mp4\"\n",
        "# video_out = \"/content/drive/MyDrive/interview-output.mp4\"\n",
        "# output_csv = \"/content/drive/MyDrive/interview.csv\"\n",
        "video = '../../data/CHR/3035post.MTS'\n",
        "video_cut = '../data/3035post-cut.mp4'\n",
        "video_out = '../output/3035post-output.mp4'\n",
        "output_csv = '../output/3035post-gesture.csv'\n",
        "output_audio_csv = '../output/3035post-acoustic.csv'"
      ]
    },
    {
      "cell_type": "code",
      "execution_count": 66,
      "metadata": {
        "id": "LhnDqMlzDP_N"
      },
      "outputs": [],
      "source": [
        "# Initialize MediaPipe's Holistic module\n",
        "mp_drawing = mp.solutions.drawing_utils\n",
        "mp_holistic = mp.solutions.holistic\n",
        "mp_face_mesh = mp.solutions.face_mesh\n",
        "holistic = mp_holistic.Holistic(static_image_mode=False, min_detection_confidence=0.5, min_tracking_confidence=0.5)\n",
        "face_mesh = mp_face_mesh.FaceMesh(static_image_mode=False, max_num_faces=1, min_detection_confidence=0.5)"
      ]
    },
    {
      "attachments": {},
      "cell_type": "markdown",
      "metadata": {
        "id": "QN93ymPI-40M"
      },
      "source": [
        "### Define Functions"
      ]
    },
    {
      "cell_type": "code",
      "execution_count": 68,
      "metadata": {
        "id": "pYRjADBiAJSC"
      },
      "outputs": [
        {
          "name": "stderr",
          "output_type": "stream",
          "text": [
            "                                                                   \n",
            "                                                                    \n",
            "t:  39%|███▉      | 13964/35964 [39:23<02:39, 138.25it/s, now=None] "
          ]
        },
        {
          "name": "stdout",
          "output_type": "stream",
          "text": [
            "Moviepy - Building video ../data/3035post-cut.mp4.\n",
            "MoviePy - Writing audio in 3035post-cutTEMP_MPY_wvf_snd.mp3\n"
          ]
        },
        {
          "name": "stderr",
          "output_type": "stream",
          "text": [
            "\n",
            "\u001b[A\n",
            "\u001b[A\n",
            "\u001b[A\n",
            "\u001b[A\n",
            "\u001b[A\n",
            "\u001b[A\n",
            "\u001b[A\n",
            "\u001b[A\n",
            "\u001b[A\n",
            "\u001b[A\n",
            "\u001b[A\n",
            "\u001b[A\n",
            "\u001b[A\n",
            "\u001b[A\n",
            "\u001b[A\n",
            "\u001b[A\n",
            "\u001b[A\n",
            "\u001b[A\n",
            "\u001b[A\n",
            "\u001b[A\n",
            "\u001b[A\n",
            "\u001b[A\n",
            "\u001b[A\n",
            "\u001b[A\n",
            "\u001b[A\n",
            "\u001b[A\n",
            "\u001b[A\n",
            "\u001b[A\n",
            "                                                                   \n",
            "                                                                    \n",
            "t:  39%|███▉      | 13964/35964 [39:26<02:39, 138.25it/s, now=None] "
          ]
        },
        {
          "name": "stdout",
          "output_type": "stream",
          "text": [
            "MoviePy - Done.\n",
            "Moviepy - Writing video ../data/3035post-cut.mp4\n",
            "\n"
          ]
        },
        {
          "name": "stderr",
          "output_type": "stream",
          "text": [
            "\n",
            "\u001b[A\n",
            "\u001b[A\n",
            "\u001b[A\n",
            "\u001b[A\n",
            "\u001b[A\n",
            "\u001b[A\n",
            "\u001b[A\n",
            "\u001b[A\n",
            "\u001b[A\n",
            "\u001b[A\n",
            "\u001b[A\n",
            "\u001b[A\n",
            "\u001b[A\n",
            "\u001b[A\n",
            "\u001b[A\n",
            "\u001b[A\n",
            "\u001b[A\n",
            "\u001b[A\n",
            "\u001b[A\n",
            "\u001b[A\n",
            "\u001b[A\n",
            "\u001b[A\n",
            "\u001b[A\n",
            "\u001b[A\n",
            "\u001b[A\n",
            "\u001b[A\n",
            "\u001b[A\n",
            "\u001b[A\n",
            "\u001b[A\n",
            "\u001b[A\n",
            "\u001b[A\n",
            "\u001b[A\n",
            "\u001b[A\n",
            "\u001b[A\n",
            "\u001b[A\n",
            "\u001b[A\n",
            "\u001b[A\n",
            "\u001b[A\n",
            "\u001b[A\n",
            "\u001b[A\n",
            "\u001b[A\n",
            "\u001b[A\n",
            "\u001b[A\n",
            "\u001b[A\n",
            "\u001b[A\n",
            "\u001b[A\n",
            "\u001b[A\n",
            "\u001b[A\n",
            "\u001b[A\n",
            "\u001b[A\n",
            "\u001b[A\n",
            "\u001b[A\n",
            "\u001b[A\n",
            "\u001b[A\n",
            "\u001b[A\n",
            "\u001b[A\n",
            "\u001b[A\n",
            "\u001b[A\n",
            "\u001b[A\n",
            "\u001b[A\n",
            "\u001b[A\n",
            "\u001b[A\n",
            "\u001b[A\n",
            "\u001b[A\n",
            "\u001b[A\n",
            "\u001b[A\n",
            "\u001b[A\n",
            "\u001b[A\n",
            "\u001b[A\n",
            "\u001b[A\n",
            "\u001b[A\n",
            "\u001b[A\n",
            "\u001b[A\n",
            "\u001b[A\n",
            "\u001b[A\n",
            "\u001b[A\n",
            "\u001b[A\n",
            "\u001b[A\n",
            "\u001b[A\n",
            "\u001b[A\n",
            "\u001b[A\n",
            "\u001b[A\n",
            "\u001b[A\n",
            "\u001b[A\n",
            "\u001b[A\n",
            "\u001b[A\n",
            "\u001b[A\n",
            "\u001b[A\n",
            "\u001b[A\n",
            "\u001b[A\n",
            "\u001b[A\n",
            "\u001b[A\n",
            "\u001b[A\n",
            "\u001b[A\n",
            "\u001b[A\n",
            "\u001b[A\n",
            "\u001b[A\n",
            "\u001b[A\n",
            "\u001b[A\n",
            "\u001b[A\n",
            "\u001b[A\n",
            "\u001b[A\n",
            "\u001b[A\n",
            "\u001b[A\n",
            "\u001b[A\n",
            "\u001b[A\n",
            "\u001b[A\n",
            "\u001b[A\n",
            "\u001b[A\n",
            "\u001b[A\n",
            "\u001b[A\n",
            "\u001b[A\n",
            "\u001b[A\n",
            "\u001b[A\n",
            "\u001b[A\n",
            "\u001b[A\n",
            "\u001b[A\n",
            "\u001b[A\n",
            "\u001b[A\n",
            "\u001b[A\n",
            "\u001b[A\n",
            "\u001b[A\n",
            "\u001b[A\n",
            "\u001b[A\n",
            "\u001b[A\n",
            "\u001b[A\n",
            "\u001b[A\n",
            "\u001b[A\n",
            "\u001b[A\n",
            "\u001b[A\n",
            "\u001b[A\n",
            "\u001b[A\n",
            "\u001b[A\n",
            "\u001b[A\n",
            "\u001b[A\n",
            "\u001b[A\n",
            "\u001b[A\n",
            "\u001b[A\n",
            "\u001b[A\n",
            "\u001b[A\n",
            "\u001b[A\n",
            "\u001b[A\n",
            "\u001b[A\n",
            "\u001b[A\n",
            "\u001b[A\n",
            "\u001b[A\n",
            "\u001b[A\n",
            "\u001b[A\n",
            "\u001b[A\n",
            "\u001b[A\n",
            "\u001b[A\n",
            "\u001b[A\n",
            "\u001b[A\n",
            "\u001b[A\n",
            "\u001b[A\n",
            "\u001b[A\n",
            "\u001b[A\n",
            "\u001b[A\n",
            "\u001b[A\n",
            "\u001b[A\n",
            "\u001b[A\n",
            "\u001b[A\n",
            "\u001b[A\n",
            "\u001b[A\n",
            "\u001b[A\n",
            "\u001b[A\n",
            "\u001b[A\n",
            "\u001b[A\n",
            "\u001b[A\n",
            "\u001b[A\n",
            "\u001b[A\n",
            "\u001b[A\n",
            "\u001b[A\n",
            "\u001b[A\n",
            "\u001b[A\n",
            "\u001b[A\n",
            "\u001b[A\n",
            "\u001b[A\n",
            "\u001b[A\n",
            "\u001b[A\n",
            "\u001b[A\n",
            "\u001b[A\n",
            "\u001b[A\n",
            "\u001b[A\n",
            "\u001b[A\n",
            "\u001b[A\n",
            "\u001b[A\n",
            "\u001b[A\n",
            "\u001b[A\n",
            "\u001b[A\n",
            "\u001b[A\n",
            "\u001b[A\n",
            "\u001b[A\n",
            "\u001b[A\n",
            "\u001b[A\n",
            "\u001b[A\n",
            "\u001b[A\n",
            "\u001b[A\n",
            "\u001b[A\n",
            "\u001b[A\n",
            "\u001b[A\n",
            "\u001b[A\n",
            "\u001b[A\n",
            "\u001b[A\n",
            "\u001b[A\n",
            "\u001b[A\n",
            "\u001b[A\n",
            "\u001b[A\n",
            "\u001b[A\n",
            "\u001b[A\n",
            "\u001b[A\n",
            "\u001b[A\n",
            "\u001b[A\n",
            "\u001b[A\n",
            "\u001b[A\n",
            "\u001b[A\n",
            "\u001b[A\n",
            "\u001b[A\n",
            "\u001b[A\n",
            "\u001b[A\n",
            "\u001b[A\n",
            "\u001b[A\n",
            "\u001b[A\n",
            "\u001b[A\n",
            "\u001b[A\n",
            "\u001b[A\n",
            "\u001b[A\n",
            "\u001b[A\n",
            "\u001b[A\n",
            "\u001b[A\n",
            "\u001b[A\n",
            "\u001b[A\n",
            "\u001b[A\n",
            "\u001b[A\n",
            "\u001b[A\n",
            "\u001b[A\n",
            "\u001b[A\n",
            "\u001b[A\n",
            "\u001b[A\n",
            "\u001b[A\n",
            "\u001b[A\n",
            "\u001b[A\n",
            "\u001b[A\n",
            "\u001b[A\n",
            "\u001b[A\n",
            "\u001b[A\n",
            "\u001b[A\n",
            "\u001b[A\n",
            "\u001b[A\n",
            "\u001b[A\n",
            "\u001b[A\n",
            "\u001b[A\n",
            "\u001b[A\n",
            "\u001b[A\n",
            "\u001b[A\n",
            "\u001b[A\n",
            "\u001b[A\n",
            "\u001b[A\n",
            "\u001b[A\n",
            "\u001b[A\n",
            "\u001b[A\n",
            "\u001b[A\n",
            "\u001b[A\n",
            "\u001b[A\n",
            "\u001b[A\n",
            "\u001b[A\n",
            "\u001b[A\n",
            "\u001b[A\n",
            "\u001b[A\n",
            "\u001b[A\n",
            "\u001b[A\n",
            "\u001b[A\n",
            "\u001b[A\n",
            "\u001b[A\n",
            "\u001b[A\n",
            "\u001b[A\n",
            "\u001b[A\n",
            "\u001b[A\n",
            "\u001b[A\n",
            "\u001b[A\n",
            "\u001b[A\n",
            "\u001b[A\n",
            "\u001b[A\n",
            "\u001b[A\n",
            "\u001b[A\n",
            "\u001b[A\n",
            "\u001b[A\n",
            "\u001b[A\n",
            "\u001b[A\n",
            "\u001b[A\n",
            "\u001b[A\n",
            "\u001b[A\n",
            "\u001b[A\n",
            "\u001b[A\n",
            "\u001b[A\n",
            "\u001b[A\n",
            "\u001b[A\n",
            "\u001b[A\n",
            "\u001b[A\n",
            "\u001b[A\n",
            "\u001b[A\n",
            "\u001b[A\n",
            "\u001b[A\n",
            "\u001b[A\n",
            "\u001b[A\n",
            "\u001b[A\n",
            "\u001b[A\n",
            "\u001b[A\n",
            "\u001b[A\n",
            "\u001b[A\n",
            "\u001b[A\n",
            "\u001b[A\n",
            "\u001b[A\n",
            "\u001b[A\n",
            "\u001b[A\n",
            "\u001b[A\n",
            "\u001b[A\n",
            "\u001b[A\n",
            "\u001b[A\n",
            "\u001b[A\n",
            "\u001b[A\n",
            "\u001b[A\n",
            "\u001b[A\n",
            "\u001b[A\n",
            "\u001b[A\n",
            "\u001b[A\n",
            "\u001b[A\n",
            "\u001b[A\n",
            "\u001b[A\n",
            "\u001b[A\n",
            "\u001b[A\n",
            "\u001b[A\n",
            "\u001b[A\n",
            "\u001b[A\n",
            "\u001b[A\n",
            "\u001b[A\n",
            "\u001b[A\n",
            "\u001b[A\n",
            "\u001b[A\n",
            "\u001b[A\n",
            "\u001b[A\n",
            "\u001b[A\n",
            "\u001b[A\n",
            "\u001b[A\n",
            "\u001b[A\n",
            "\u001b[A\n",
            "\u001b[A\n",
            "\u001b[A\n",
            "\u001b[A\n",
            "\u001b[A\n",
            "\u001b[A\n",
            "\u001b[A\n",
            "\u001b[A\n",
            "\u001b[A\n",
            "\u001b[A\n",
            "\u001b[A\n",
            "\u001b[A\n",
            "\u001b[A\n",
            "\u001b[A\n",
            "\u001b[A\n",
            "\u001b[A\n",
            "\u001b[A\n",
            "\u001b[A\n",
            "\u001b[A\n",
            "\u001b[A\n",
            "\u001b[A\n",
            "\u001b[A\n",
            "\u001b[A\n",
            "\u001b[A\n",
            "\u001b[A\n",
            "\u001b[A\n",
            "\u001b[A\n",
            "\u001b[A\n",
            "\u001b[A\n",
            "\u001b[A\n",
            "\u001b[A\n",
            "\u001b[A\n",
            "\u001b[A\n",
            "\u001b[A\n",
            "\u001b[A\n",
            "\u001b[A\n",
            "\u001b[A\n",
            "\u001b[A\n",
            "\u001b[A\n",
            "\u001b[A\n",
            "\u001b[A\n",
            "\u001b[A\n",
            "\u001b[A\n",
            "\u001b[A\n",
            "\u001b[A\n",
            "\u001b[A\n",
            "\u001b[A\n",
            "\u001b[A\n",
            "\u001b[A\n",
            "\u001b[A\n",
            "\u001b[A\n",
            "\u001b[A\n",
            "\u001b[A\n",
            "\u001b[A\n",
            "\u001b[A\n",
            "\u001b[A\n",
            "\u001b[A\n",
            "\u001b[A\n",
            "\u001b[A\n",
            "\u001b[A\n",
            "\u001b[A\n",
            "\u001b[A\n",
            "\u001b[A\n",
            "\u001b[A\n",
            "\u001b[A\n",
            "\u001b[A\n",
            "\u001b[A\n",
            "\u001b[A\n",
            "\u001b[A\n",
            "\u001b[A\n",
            "\u001b[A\n",
            "\u001b[A\n",
            "\u001b[A\n",
            "\u001b[A\n",
            "\u001b[A\n",
            "\u001b[A\n",
            "\u001b[A\n",
            "\u001b[A\n",
            "\u001b[A\n",
            "\u001b[A\n",
            "\u001b[A\n",
            "\u001b[A\n",
            "\u001b[A\n",
            "\u001b[A\n",
            "\u001b[A\n",
            "\u001b[A\n",
            "\u001b[A\n",
            "\u001b[A\n",
            "\u001b[A\n",
            "\u001b[A\n",
            "\u001b[A\n",
            "\u001b[A\n",
            "\u001b[A\n",
            "\u001b[A\n",
            "\u001b[A\n",
            "\u001b[A\n",
            "\u001b[A\n",
            "\u001b[A\n",
            "\u001b[A\n",
            "\u001b[A\n",
            "\u001b[A\n",
            "\u001b[A\n",
            "\u001b[A\n",
            "\u001b[A\n",
            "\u001b[A\n",
            "\u001b[A\n",
            "\u001b[A\n",
            "\u001b[A\n",
            "\u001b[A\n",
            "\u001b[A\n",
            "\u001b[A\n",
            "\u001b[A\n",
            "\u001b[A\n",
            "\u001b[A\n",
            "\u001b[A\n",
            "\u001b[A\n",
            "\u001b[A\n",
            "\u001b[A\n",
            "\u001b[A\n",
            "\u001b[A\n",
            "\u001b[A\n",
            "\u001b[A\n",
            "\u001b[A\n",
            "\u001b[A\n",
            "\u001b[A\n",
            "\u001b[A\n",
            "\u001b[A\n",
            "\u001b[A\n",
            "\u001b[A\n",
            "\u001b[A\n",
            "\u001b[A\n",
            "\u001b[A\n",
            "\u001b[A\n",
            "\u001b[A\n",
            "\u001b[A\n",
            "\u001b[A\n",
            "\u001b[A\n",
            "\u001b[A\n",
            "\u001b[A\n",
            "\u001b[A\n",
            "\u001b[A\n",
            "\u001b[A\n",
            "\u001b[A\n",
            "\u001b[A\n",
            "\u001b[A\n",
            "\u001b[A\n",
            "\u001b[A\n",
            "\u001b[A\n",
            "\u001b[A\n",
            "\u001b[A\n",
            "\u001b[A\n",
            "\u001b[A\n",
            "\u001b[A\n",
            "\u001b[A\n",
            "\u001b[A\n",
            "\u001b[A\n",
            "\u001b[A\n",
            "\u001b[A\n",
            "\u001b[A\n",
            "\u001b[A\n",
            "\u001b[A\n",
            "\u001b[A\n",
            "\u001b[A\n",
            "\u001b[A\n",
            "\u001b[A\n",
            "\u001b[A\n",
            "\u001b[A\n",
            "\u001b[A\n",
            "\u001b[A\n",
            "\u001b[A\n",
            "\u001b[A\n",
            "\u001b[A\n",
            "\u001b[A\n",
            "\u001b[A\n",
            "\u001b[A\n",
            "\u001b[A\n",
            "\u001b[A\n",
            "\u001b[A\n",
            "\u001b[A\n",
            "\u001b[A\n",
            "\u001b[A\n",
            "\u001b[A\n",
            "\u001b[A\n",
            "\u001b[A\n",
            "\u001b[A\n",
            "\u001b[A\n",
            "\u001b[A\n",
            "\u001b[A\n",
            "\u001b[A\n",
            "\u001b[A\n",
            "\u001b[A\n",
            "\u001b[A\n",
            "\u001b[A\n",
            "\u001b[A\n",
            "\u001b[A\n",
            "\u001b[A\n",
            "\u001b[A\n",
            "\u001b[A\n",
            "\u001b[A\n",
            "\u001b[A\n",
            "\u001b[A\n",
            "\u001b[A\n",
            "\u001b[A\n",
            "\u001b[A\n",
            "\u001b[A\n",
            "\u001b[A\n",
            "\u001b[A\n",
            "\u001b[A\n",
            "\u001b[A\n",
            "\u001b[A\n",
            "\u001b[A\n",
            "\u001b[A\n",
            "\u001b[A\n",
            "\u001b[A\n",
            "\u001b[A\n",
            "\u001b[A\n",
            "\u001b[A\n",
            "\u001b[A\n",
            "\u001b[A\n",
            "\u001b[A\n",
            "\u001b[A\n",
            "\u001b[A\n",
            "\u001b[A\n",
            "\u001b[A\n",
            "\u001b[A\n",
            "\u001b[A\n",
            "\u001b[A\n",
            "\u001b[A\n",
            "\u001b[A\n",
            "\u001b[A\n",
            "\u001b[A\n",
            "\u001b[A\n",
            "\u001b[A\n",
            "\u001b[A\n",
            "\u001b[A\n",
            "\u001b[A\n",
            "\u001b[A\n",
            "\u001b[A\n",
            "\u001b[A\n",
            "\u001b[A\n",
            "\u001b[A\n",
            "\u001b[A\n",
            "\u001b[A\n",
            "\u001b[A\n",
            "\u001b[A\n",
            "\u001b[A\n",
            "\u001b[A\n",
            "\u001b[A\n",
            "\u001b[A\n",
            "\u001b[A\n",
            "\u001b[A\n",
            "\u001b[A\n",
            "\u001b[A\n",
            "\u001b[A\n",
            "\u001b[A\n",
            "\u001b[A\n",
            "\u001b[A\n",
            "\u001b[A\n",
            "\u001b[A\n",
            "\u001b[A\n",
            "\u001b[A\n",
            "\u001b[A\n",
            "\u001b[A\n",
            "\u001b[A\n",
            "\u001b[A\n",
            "\u001b[A\n",
            "\u001b[A\n",
            "\u001b[A\n",
            "\u001b[A\n",
            "\u001b[A\n",
            "\u001b[A\n",
            "\u001b[A\n",
            "\u001b[A\n",
            "\u001b[A\n",
            "\u001b[A\n",
            "\u001b[A\n",
            "\u001b[A\n",
            "\u001b[A\n",
            "\u001b[A\n",
            "\u001b[A\n",
            "\u001b[A\n",
            "\u001b[A\n",
            "\u001b[A\n",
            "\u001b[A\n",
            "\u001b[A\n",
            "\u001b[A\n",
            "\u001b[A\n",
            "\u001b[A\n",
            "\u001b[A\n",
            "\u001b[A\n",
            "\u001b[A\n",
            "\u001b[A\n",
            "\u001b[A\n",
            "\u001b[A\n",
            "\u001b[A\n",
            "\u001b[A\n",
            "\u001b[A\n",
            "\u001b[A\n",
            "\u001b[A\n",
            "\u001b[A\n",
            "\u001b[A\n",
            "\u001b[A\n",
            "\u001b[A\n",
            "\u001b[A\n",
            "\u001b[A\n",
            "\u001b[A\n",
            "\u001b[A\n",
            "\u001b[A\n",
            "\u001b[A\n",
            "\u001b[A\n",
            "\u001b[A\n",
            "\u001b[A\n",
            "\u001b[A\n",
            "\u001b[A\n",
            "\u001b[A\n",
            "\u001b[A\n",
            "\u001b[A\n",
            "\u001b[A\n",
            "\u001b[A\n",
            "\u001b[A\n",
            "\u001b[A\n",
            "\u001b[A\n",
            "\u001b[A\n",
            "\u001b[A\n",
            "\u001b[A\n",
            "\u001b[A\n",
            "\u001b[A\n",
            "\u001b[A\n",
            "\u001b[A\n",
            "\u001b[A\n",
            "\u001b[A\n",
            "\u001b[A\n",
            "\u001b[A\n",
            "\u001b[A\n",
            "\u001b[A\n",
            "\u001b[A\n",
            "\u001b[A\n",
            "\u001b[A\n",
            "\u001b[A\n",
            "\u001b[A\n",
            "\u001b[A\n",
            "\u001b[A\n",
            "\u001b[A\n",
            "\u001b[A\n",
            "\u001b[A\n",
            "\u001b[A\n",
            "\u001b[A\n",
            "\u001b[A\n",
            "\u001b[A\n",
            "\u001b[A\n",
            "\u001b[A\n",
            "\u001b[A\n",
            "\u001b[A\n",
            "\u001b[A\n",
            "\u001b[A\n",
            "\u001b[A\n",
            "\u001b[A\n",
            "\u001b[A\n",
            "\u001b[A\n",
            "\u001b[A\n",
            "\u001b[A\n",
            "\u001b[A\n",
            "\u001b[A\n",
            "\u001b[A\n",
            "\u001b[A\n",
            "\u001b[A\n",
            "\u001b[A\n",
            "\u001b[A\n",
            "\u001b[A\n",
            "\u001b[A\n",
            "\u001b[A\n",
            "\u001b[A\n",
            "\u001b[A\n",
            "\u001b[A\n",
            "\u001b[A\n",
            "\u001b[A\n",
            "\u001b[A\n",
            "\u001b[A\n",
            "\u001b[A\n",
            "\u001b[A\n",
            "\u001b[A\n",
            "\u001b[A\n",
            "\u001b[A\n",
            "\u001b[A\n",
            "\u001b[A\n",
            "\u001b[A\n",
            "\u001b[A\n",
            "\u001b[A\n",
            "\u001b[A\n",
            "\u001b[A\n",
            "\u001b[A\n",
            "\u001b[A\n",
            "\u001b[A\n",
            "\u001b[A\n",
            "\u001b[A\n",
            "\u001b[A\n",
            "\u001b[A\n",
            "\u001b[A\n",
            "\u001b[A\n",
            "\u001b[A\n",
            "\u001b[A\n",
            "\u001b[A\n",
            "\u001b[A\n",
            "\u001b[A\n",
            "\u001b[A\n",
            "\u001b[A\n",
            "\u001b[A\n",
            "\u001b[A\n",
            "\u001b[A\n",
            "\u001b[A\n",
            "\u001b[A\n",
            "\u001b[A\n",
            "\u001b[A\n",
            "\u001b[A\n",
            "\u001b[A\n",
            "\u001b[A\n",
            "\u001b[A\n",
            "\u001b[A\n",
            "\u001b[A\n",
            "\u001b[A\n",
            "\u001b[A\n",
            "\u001b[A\n",
            "\u001b[A\n",
            "\u001b[A\n",
            "\u001b[A\n",
            "\u001b[A\n",
            "\u001b[A\n",
            "\u001b[A\n",
            "\u001b[A\n",
            "\u001b[A\n",
            "\u001b[A\n",
            "\u001b[A\n",
            "\u001b[A\n",
            "\u001b[A\n",
            "\u001b[A\n",
            "\u001b[A\n",
            "\u001b[A\n",
            "\u001b[A\n",
            "\u001b[A\n",
            "\u001b[A\n",
            "\u001b[A\n",
            "\u001b[A\n",
            "\u001b[A\n",
            "\u001b[A\n",
            "\u001b[A\n",
            "\u001b[A\n",
            "\u001b[A\n",
            "\u001b[A\n",
            "\u001b[A\n",
            "\u001b[A\n",
            "\u001b[A\n",
            "\u001b[A\n",
            "\u001b[A\n",
            "\u001b[A\n",
            "\u001b[A\n",
            "\u001b[A\n",
            "\u001b[A\n",
            "\u001b[A\n",
            "\u001b[A\n",
            "\u001b[A\n",
            "\u001b[A\n",
            "\u001b[A\n",
            "\u001b[A\n",
            "\u001b[A\n",
            "\u001b[A\n",
            "\u001b[A\n",
            "\u001b[A\n",
            "\u001b[A\n",
            "\u001b[A\n",
            "\u001b[A\n",
            "\u001b[A\n",
            "\u001b[A\n",
            "\u001b[A\n",
            "\u001b[A\n",
            "\u001b[A\n",
            "\u001b[A\n",
            "\u001b[A\n",
            "\u001b[A\n",
            "\u001b[A\n",
            "\u001b[A\n",
            "\u001b[A\n",
            "\u001b[A\n",
            "\u001b[A\n",
            "\u001b[A\n",
            "\u001b[A\n",
            "\u001b[A\n",
            "\u001b[A\n",
            "\u001b[A\n",
            "\u001b[A\n",
            "\u001b[A\n",
            "\u001b[A\n",
            "\u001b[A\n",
            "\u001b[A\n",
            "\u001b[A\n",
            "\u001b[A\n",
            "\u001b[A\n",
            "\u001b[A\n",
            "\u001b[A\n",
            "\u001b[A\n",
            "\u001b[A\n",
            "\u001b[A\n",
            "\u001b[A\n",
            "\u001b[A\n",
            "\u001b[A\n",
            "\u001b[A\n",
            "\u001b[A\n",
            "\u001b[A\n",
            "\u001b[A\n",
            "\u001b[A\n",
            "\u001b[A\n",
            "\u001b[A\n",
            "\u001b[A\n",
            "\u001b[A\n",
            "\u001b[A\n",
            "\u001b[A\n",
            "\u001b[A\n",
            "\u001b[A\n",
            "\u001b[A\n",
            "\u001b[A\n",
            "\u001b[A\n",
            "\u001b[A\n",
            "\u001b[A\n",
            "\u001b[A\n",
            "\u001b[A\n",
            "\u001b[A\n",
            "\u001b[A\n",
            "\u001b[A\n",
            "\u001b[A\n",
            "\u001b[A\n",
            "\u001b[A\n",
            "\u001b[A\n",
            "\u001b[A\n",
            "\u001b[A\n",
            "\u001b[A\n",
            "\u001b[A\n",
            "\u001b[A\n",
            "\u001b[A\n",
            "\u001b[A\n",
            "\u001b[A\n",
            "\u001b[A\n",
            "\u001b[A\n",
            "\u001b[A\n",
            "\u001b[A\n",
            "\u001b[A\n",
            "\u001b[A\n",
            "\u001b[A\n",
            "\u001b[A\n",
            "\u001b[A\n",
            "\u001b[A\n",
            "\u001b[A\n",
            "\u001b[A\n",
            "\u001b[A\n",
            "\u001b[A\n",
            "\u001b[A\n",
            "\u001b[A\n",
            "\u001b[A\n",
            "\u001b[A\n",
            "\u001b[A\n",
            "\u001b[A\n",
            "\u001b[A\n",
            "\u001b[A\n",
            "\u001b[A\n",
            "\u001b[A\n",
            "\u001b[A\n",
            "\u001b[A\n",
            "\u001b[A\n",
            "\u001b[A\n",
            "\u001b[A\n",
            "\u001b[A\n",
            "\u001b[A\n",
            "\u001b[A\n",
            "\u001b[A\n",
            "\u001b[A\n",
            "\u001b[A\n",
            "\u001b[A\n",
            "\u001b[A\n",
            "\u001b[A\n",
            "\u001b[A\n",
            "\u001b[A\n",
            "\u001b[A\n",
            "\u001b[A\n",
            "\u001b[A\n",
            "\u001b[A\n",
            "\u001b[A\n",
            "\u001b[A\n",
            "\u001b[A\n",
            "\u001b[A\n",
            "\u001b[A\n",
            "\u001b[A\n",
            "\u001b[A\n",
            "\u001b[A\n",
            "\u001b[A\n",
            "\u001b[A\n",
            "\u001b[A\n",
            "\u001b[A\n",
            "\u001b[A\n",
            "\u001b[A\n",
            "\u001b[A\n",
            "\u001b[A\n",
            "\u001b[A\n",
            "\u001b[A\n",
            "\u001b[A\n",
            "\u001b[A\n",
            "\u001b[A\n",
            "\u001b[A\n",
            "\u001b[A\n",
            "\u001b[A\n",
            "\u001b[A\n",
            "\u001b[A\n",
            "\u001b[A\n",
            "\u001b[A\n",
            "\u001b[A\n",
            "\u001b[A\n",
            "\u001b[A\n",
            "\u001b[A\n",
            "\u001b[A\n",
            "\u001b[A\n",
            "\u001b[A\n",
            "\u001b[A\n",
            "\u001b[A\n",
            "\u001b[A\n",
            "\u001b[A\n",
            "\u001b[A\n",
            "\u001b[A\n",
            "\u001b[A\n",
            "\u001b[A\n",
            "\u001b[A\n",
            "\u001b[A\n",
            "\u001b[A\n",
            "\u001b[A\n",
            "\u001b[A\n",
            "\u001b[A\n",
            "\u001b[A\n",
            "\u001b[A\n",
            "\u001b[A\n",
            "\u001b[A\n",
            "\u001b[A\n",
            "\u001b[A\n",
            "\u001b[A\n",
            "\u001b[A\n",
            "\u001b[A\n",
            "\u001b[A\n",
            "\u001b[A\n",
            "\u001b[A\n",
            "\u001b[A\n",
            "\u001b[A\n",
            "\u001b[A\n",
            "\u001b[A\n",
            "\u001b[A\n",
            "\u001b[A\n",
            "\u001b[A\n",
            "\u001b[A\n",
            "\u001b[A\n",
            "\u001b[A\n",
            "\u001b[A\n",
            "\u001b[A\n",
            "\u001b[A\n",
            "\u001b[A\n",
            "\u001b[A\n",
            "\u001b[A\n",
            "\u001b[A\n",
            "\u001b[A\n",
            "\u001b[A\n",
            "\u001b[A\n",
            "\u001b[A\n",
            "\u001b[A\n",
            "\u001b[A\n",
            "\u001b[A\n",
            "\u001b[A\n",
            "\u001b[A\n",
            "\u001b[A\n",
            "\u001b[A\n",
            "\u001b[A\n",
            "\u001b[A\n",
            "\u001b[A\n",
            "\u001b[A\n",
            "\u001b[A\n",
            "\u001b[A\n",
            "\u001b[A\n",
            "\u001b[A\n",
            "\u001b[A\n",
            "\u001b[A\n",
            "\u001b[A\n",
            "\u001b[A\n",
            "\u001b[A\n",
            "\u001b[A\n",
            "\u001b[A\n",
            "\u001b[A\n",
            "\u001b[A\n",
            "\u001b[A\n",
            "\u001b[A\n",
            "\u001b[A\n",
            "\u001b[A\n",
            "\u001b[A\n",
            "\u001b[A\n",
            "\u001b[A\n",
            "\u001b[A\n",
            "\u001b[A\n",
            "\u001b[A\n",
            "\u001b[A\n",
            "\u001b[A\n",
            "\u001b[A\n",
            "\u001b[A\n",
            "\u001b[A\n",
            "\u001b[A\n",
            "\u001b[A\n",
            "\u001b[A\n",
            "\u001b[A\n",
            "\u001b[A\n",
            "\u001b[A\n",
            "\u001b[A\n",
            "\u001b[A\n",
            "\u001b[A\n",
            "\u001b[A\n",
            "\u001b[A\n",
            "\u001b[A\n",
            "\u001b[A\n",
            "\u001b[A\n",
            "\u001b[A\n",
            "\u001b[A\n",
            "\u001b[A\n",
            "\u001b[A\n",
            "\u001b[A\n",
            "\u001b[A\n",
            "\u001b[A\n",
            "\u001b[A\n",
            "\u001b[A\n",
            "\u001b[A\n",
            "\u001b[A\n",
            "\u001b[A\n",
            "\u001b[A\n",
            "\u001b[A\n",
            "\u001b[A\n",
            "\u001b[A\n",
            "\u001b[A\n",
            "\u001b[A\n",
            "\u001b[A\n",
            "\u001b[A\n",
            "\u001b[A\n",
            "\u001b[A\n",
            "\u001b[A\n",
            "\u001b[A\n",
            "\u001b[A\n",
            "\u001b[A\n",
            "\u001b[A\n",
            "\u001b[A\n",
            "\u001b[A\n",
            "\u001b[A\n",
            "\u001b[A\n",
            "\u001b[A\n",
            "\u001b[A\n",
            "\u001b[A\n",
            "\u001b[A\n",
            "\u001b[A\n",
            "\u001b[A\n",
            "\u001b[A\n",
            "\u001b[A\n",
            "\u001b[A\n",
            "\u001b[A\n",
            "\u001b[A\n",
            "\u001b[A\n",
            "\u001b[A\n",
            "\u001b[A\n",
            "\u001b[A\n",
            "\u001b[A\n",
            "\u001b[A\n",
            "\u001b[A\n",
            "\u001b[A\n",
            "\u001b[A\n",
            "\u001b[A\n",
            "\u001b[A\n",
            "\u001b[A\n",
            "\u001b[A\n",
            "\u001b[A\n",
            "\u001b[A\n",
            "\u001b[A\n",
            "\u001b[A\n",
            "\u001b[A\n",
            "\u001b[A\n",
            "\u001b[A\n",
            "\u001b[A\n",
            "\u001b[A\n",
            "\u001b[A\n",
            "\u001b[A\n",
            "\u001b[A\n",
            "\u001b[A\n",
            "\u001b[A\n",
            "\u001b[A\n",
            "\u001b[A\n",
            "\u001b[A\n",
            "\u001b[A\n",
            "\u001b[A\n",
            "\u001b[A\n",
            "\u001b[A\n",
            "\u001b[A\n",
            "\u001b[A\n",
            "\u001b[A\n",
            "\u001b[A\n",
            "\u001b[A\n",
            "\u001b[A\n",
            "\u001b[A\n",
            "\u001b[A\n",
            "\u001b[A\n",
            "\u001b[A\n",
            "\u001b[A\n",
            "\u001b[A\n",
            "\u001b[A\n",
            "\u001b[A\n",
            "\u001b[A\n",
            "\u001b[A\n",
            "\u001b[A\n",
            "\u001b[A\n",
            "\u001b[A\n",
            "\u001b[A\n",
            "\u001b[A\n",
            "\u001b[A\n",
            "\u001b[A\n",
            "\u001b[A\n",
            "\u001b[A\n",
            "\u001b[A\n",
            "\u001b[A\n",
            "\u001b[A\n",
            "\u001b[A\n",
            "\u001b[A\n",
            "\u001b[A\n",
            "\u001b[A\n",
            "\u001b[A\n",
            "\u001b[A\n",
            "\u001b[A\n",
            "\u001b[A\n",
            "\u001b[A\n",
            "\u001b[A\n",
            "\u001b[A\n",
            "\u001b[A\n",
            "\u001b[A\n",
            "\u001b[A\n",
            "\u001b[A\n",
            "\u001b[A\n",
            "\u001b[A\n",
            "\u001b[A\n",
            "\u001b[A\n",
            "\u001b[A\n",
            "\u001b[A\n",
            "\u001b[A\n",
            "\u001b[A\n",
            "\u001b[A\n",
            "\u001b[A\n",
            "\u001b[A\n",
            "\u001b[A\n",
            "\u001b[A\n",
            "\u001b[A\n",
            "\u001b[A\n",
            "\u001b[A\n",
            "\u001b[A\n",
            "\u001b[A\n",
            "\u001b[A\n",
            "\u001b[A\n",
            "\u001b[A\n",
            "\u001b[A\n",
            "\u001b[A\n",
            "\u001b[A\n",
            "\u001b[A\n",
            "                                                                   \n",
            "                                                                    \n",
            "t:  39%|███▉      | 13964/35964 [41:33<02:39, 138.25it/s, now=None] "
          ]
        },
        {
          "name": "stdout",
          "output_type": "stream",
          "text": [
            "Moviepy - Done !\n",
            "Moviepy - video ready ../data/3035post-cut.mp4\n"
          ]
        }
      ],
      "source": [
        "# clip input(.mp4) video to output(.mp4) video\n",
        "# start_time and end_time in seconds\n",
        "def extract_subclip(input, output, start_time, end_time):\n",
        "  original_video = m_editor.VideoFileClip(input)\n",
        "  cut_video = original_video.subclip(start_time, end_time)\n",
        "  cut_video.write_videofile(output, codec=\"libx264\")\n",
        "  \n",
        "extract_subclip(video, video_cut, 0, 300)"
      ]
    },
    {
      "cell_type": "code",
      "execution_count": 69,
      "metadata": {
        "id": "1Jb8yGNaCO7I"
      },
      "outputs": [],
      "source": [
        "# Function to calculate the Euclidean distance between two points\n",
        "def euclidean_distance(p1, p2):\n",
        "    return np.sqrt((p1.x - p2.x) ** 2 + (p1.y - p2.y) ** 2)\n",
        "\n",
        "# Function to calculate the openness of a pose\n",
        "def pose_openness(holistic_landmarks, image):\n",
        "    image_h, image_w, _ = image.shape\n",
        "    keypoints = [\n",
        "        holistic_landmarks.landmark[mp_holistic.PoseLandmark.LEFT_SHOULDER],\n",
        "        holistic_landmarks.landmark[mp_holistic.PoseLandmark.RIGHT_SHOULDER],\n",
        "        holistic_landmarks.landmark[mp_holistic.PoseLandmark.LEFT_HIP],\n",
        "        holistic_landmarks.landmark[mp_holistic.PoseLandmark.RIGHT_HIP],\n",
        "        holistic_landmarks.landmark[mp_holistic.PoseLandmark.LEFT_WRIST],\n",
        "        holistic_landmarks.landmark[mp_holistic.PoseLandmark.RIGHT_WRIST],\n",
        "    ]\n",
        "    \n",
        "    # coords = np.array([(kp.x, kp.y) for kp in keypoints])\n",
        "    coords = np.array([(int(kp.x * image_w), int(kp.y * image_h)) for kp in keypoints])\n",
        "    hull = ConvexHull(coords)\n",
        "    \n",
        "    return hull.volume\n",
        "\n",
        "\n",
        "# Function to calculate leaning direction\n",
        "def leaning_direction(holistic_landmarks):\n",
        "    nose = holistic_landmarks.landmark[mp_holistic.PoseLandmark.NOSE]\n",
        "    left_hip = holistic_landmarks.landmark[mp_holistic.PoseLandmark.LEFT_HIP]\n",
        "    right_hip = holistic_landmarks.landmark[mp_holistic.PoseLandmark.RIGHT_HIP]\n",
        "    \n",
        "    avg_hip_z = (left_hip.z + right_hip.z) / 2\n",
        "\n",
        "    if nose.z < avg_hip_z:\n",
        "        return \"Backward\"\n",
        "    else:\n",
        "        return \"Forward\"\n",
        "\n",
        "# Function to calculate head direction\n",
        "def head_direction(prev, curr, image):\n",
        "    image_h, image_w, _ = image.shape\n",
        "    curr_nose = curr.landmark[mp_holistic.PoseLandmark.NOSE] \n",
        "    prev_nose = prev.landmark[mp_holistic.PoseLandmark.NOSE]\n",
        "\n",
        "    curr_nose_cood = np.array([int(curr_nose.x * image_w), int(curr_nose.y * image_h)])\n",
        "    prev_nose_cood = np.array([int(prev_nose.x * image_w), int(prev_nose.y * image_h)])\n",
        "    nose_diff = curr_nose_cood - prev_nose_cood\n",
        "    horizontal = 'STILL'\n",
        "    vertical = 'STILL'\n",
        "    if nose_diff[0] > 0:\n",
        "        horizontal = \"RIGHT\"\n",
        "    elif nose_diff[0] < 0:\n",
        "        horizontal = 'LEFT'\n",
        "    \n",
        "    if nose_diff[1] > 0:\n",
        "        vertical = 'UP'\n",
        "    elif nose_diff[1] < 0:\n",
        "        vertical = 'DOWN'\n",
        "    return horizontal, vertical\n",
        "\n",
        "# Function to calculate angle between three landmarks\n",
        "def calculate_angle(l1, l2, l3):\n",
        "\n",
        "    # Calculate the angle between the three points\n",
        "    angle = math.degrees(math.atan2(l3.y - l2.y, l3.x - l2.x) - math.atan2(l1.y - l2.y, l1.x - l2.x))\n",
        "    \n",
        "    # Check if the angle is less than zero.\n",
        "    if angle < 0:\n",
        "        # Add 360 to the found angle.\n",
        "        angle += 360\n",
        "  \n",
        "    return angle\n",
        "\n",
        "\n",
        "# Function to calculate angle between three landmarks using numpy module\n",
        "def numpy_angle(l1,l2,l3, width, height):\n",
        "  a = np.array([l1.x * width, l1.y * height])\n",
        "  b = np.array([l2.x * width, l2.y * height])\n",
        "  c = np.array([l3.x * width, l3.y * height])\n",
        "\n",
        "  ba = a - b\n",
        "  bc = c - b\n",
        "\n",
        "  cosine_angle = np.dot(ba, bc) / (np.linalg.norm(ba) * np.linalg.norm(bc))\n",
        "  angle = np.arccos(cosine_angle)\n",
        "\n",
        "  return np.degrees(angle)\n",
        "\n",
        "# Function to calculate hand orientation\n",
        "def orientation(l0, l9): \n",
        "    x0 = l0.x\n",
        "    y0 = l0.y\n",
        "    \n",
        "    x9 = l9.x\n",
        "    y9 = l9.y\n",
        "    \n",
        "    if abs(x9 - x0) < 0.05:      # since tan(0) --> ∞\n",
        "        m = 1000000000\n",
        "    else:\n",
        "        m = abs((y9 - y0)/(x9 - x0))       \n",
        "        \n",
        "    if m>=0 and m<=1:\n",
        "        if x9 > x0:\n",
        "            return \"Right\"\n",
        "        else:\n",
        "            return \"Left\"\n",
        "    if m>1:\n",
        "        if y9 < y0:       # since, y decreases upwards\n",
        "            return \"Up\"\n",
        "        else:\n",
        "            return \"Down\""
      ]
    },
    {
      "attachments": {},
      "cell_type": "markdown",
      "metadata": {
        "id": "AGpzyv8_ExWz"
      },
      "source": [
        "### Initialize Variables"
      ]
    },
    {
      "cell_type": "code",
      "execution_count": 70,
      "metadata": {
        "id": "LwEV3lf2FJkB"
      },
      "outputs": [],
      "source": [
        "# Load the cropped video(input)\n",
        "cap = cv2.VideoCapture(video_cut)\n",
        "\n",
        "# Get the video dimensions and FPS(input)\n",
        "width = int(cap.get(cv2.CAP_PROP_FRAME_WIDTH))\n",
        "height = int(cap.get(cv2.CAP_PROP_FRAME_HEIGHT))\n",
        "fps = int(cap.get(cv2.CAP_PROP_FPS))\n",
        "\n",
        "# Initialize the VideoWriter(output)\n",
        "fourcc = cv2.VideoWriter_fourcc(*\"mp4v\")  # You can also use \"XVID\" or \"MJPG\" for AVI files\n",
        "out = cv2.VideoWriter(video_out, fourcc, fps, (width, height))"
      ]
    },
    {
      "cell_type": "code",
      "execution_count": 71,
      "metadata": {
        "id": "hS6bWoCXHg5L"
      },
      "outputs": [],
      "source": [
        "# initialize variables \n",
        "\n",
        "PL = mp_holistic.PoseLandmark\n",
        "HL = mp_holistic.HandLandmark\n",
        "\n",
        "## Holistic\n",
        "prev_landmarks = None\n",
        "total_movement = 0\n",
        "frame_movement = 0\n",
        "openness_value = 0\n",
        "head_horizontal = \"\"\n",
        "head_vertical = \"\"\n",
        "holistic_threshold = 0.001  # Adjust the threshold to fine-tune movement detection sensitivity\n",
        "holistic_keypoints = [\n",
        "    mp_holistic.PoseLandmark.LEFT_WRIST,\n",
        "    mp_holistic.PoseLandmark.RIGHT_WRIST,\n",
        "    mp_holistic.PoseLandmark.LEFT_ANKLE,\n",
        "    mp_holistic.PoseLandmark.RIGHT_ANKLE,\n",
        "]\n",
        "\n",
        "## Arms\n",
        "left_arm_movement = 0\n",
        "right_arm_movement = 0\n",
        "\n",
        "la_counter = 0 \n",
        "la_vert = None\n",
        "la_leaning = None\n",
        "\n",
        "ra_counter = 0 \n",
        "ra_vert = None\n",
        "ra_leaning = None\n",
        "\n",
        "## Hand\n",
        "lh_stage = None\n",
        "lh_tip_distance = 0\n",
        "lh_orientation = None\n",
        "\n",
        "rh_stage = None\n",
        "rh_tip_distance = 0\n",
        "rh_orientation = None"
      ]
    },
    {
      "attachments": {},
      "cell_type": "markdown",
      "metadata": {
        "id": "BSAC0Z1xIoCh"
      },
      "source": [
        "### Extract Gesture Data"
      ]
    },
    {
      "cell_type": "code",
      "execution_count": 72,
      "metadata": {
        "id": "AvDOHaVqIqLo"
      },
      "outputs": [],
      "source": [
        "# open output CSV file and add header row\n",
        "with open(output_csv, mode='w', newline='') as csv_file:\n",
        "  writer = csv.writer(csv_file)\n",
        "  writer.writerow(['time_in_seconds', \n",
        "                   'frame', \n",
        "                   'total_movement_per_second', \n",
        "                   'pose_openness', \n",
        "                   'leaning', \n",
        "                   'head_horizontal',\n",
        "                   'head_vertical',\n",
        "                   'left_arm_angle', \n",
        "                   'left_arm_v_movement', \n",
        "                   'left_arm_h_movement',\n",
        "                   'right_arm_angle', \n",
        "                   'right_arm_v_movement', \n",
        "                   'right_arm_h_movement', \n",
        "                   'left_hand_orientation', \n",
        "                   'left_hand_state', \n",
        "                   'right_hand_orientation', \n",
        "                   'right_hand_state'])\n",
        "\n",
        "  # Process the video frames\n",
        "  frame_number = 0\n",
        "\n",
        "  while cap.isOpened():\n",
        "    ret, frame = cap.read()\n",
        "    if not ret:\n",
        "      break\n",
        "    \n",
        "    # Convert the frame to RGB\n",
        "    frame_rgb = cv2.cvtColor(frame, cv2.COLOR_BGR2RGB)\n",
        "\n",
        "    # Process the frame with MediaPipe's Holistic module\n",
        "    results = holistic.process(frame_rgb)\n",
        "\n",
        "    # Draw holistic landmarks on the frame\n",
        "    if results.pose_landmarks:\n",
        "      current = results.pose_landmarks\n",
        "      current_lh = results.left_hand_landmarks\n",
        "      current_rh = results.right_hand_landmarks\n",
        "\n",
        "      mp_drawing.draw_landmarks(frame, current, mp_holistic.POSE_CONNECTIONS)\n",
        "      mp_drawing.draw_landmarks(frame, current_lh, mp_holistic.HAND_CONNECTIONS)\n",
        "      mp_drawing.draw_landmarks(frame, current_rh, mp_holistic.HAND_CONNECTIONS)\n",
        "\n",
        "      ## Holistic movements\n",
        "      # Calculate the total movement\n",
        "      if prev_landmarks:\n",
        "        frame_movement = 0\n",
        "        for kp in holistic_keypoints:\n",
        "          distance = euclidean_distance(results.pose_landmarks.landmark[kp], prev_landmarks.landmark[kp])\n",
        "          frame_movement += distance\n",
        "        if frame_movement > holistic_threshold:\n",
        "          total_movement += frame_movement\n",
        "        \n",
        "        head_horizontal, head_vertical = head_direction(prev_landmarks, current, frame_rgb)\n",
        "      \n",
        "      # Calculate and display the total movement and pose openness on the frame\n",
        "      openness_value = pose_openness(results.pose_landmarks, frame_rgb)\n",
        "      # Calculate and display the leaning direction\n",
        "      leaning_dir = leaning_direction(results.pose_landmarks)\n",
        "\n",
        "      ## Hand movements\n",
        "      # distance b/w INDEX_FINGER_TIP and THUMB_TIP\n",
        "      if current_lh:\n",
        "        lh_tip_distance = euclidean_distance(current_lh.landmark[HL.INDEX_FINGER_TIP],current_lh.landmark[HL.THUMB_TIP])\n",
        "        if current_lh.landmark[HL.MIDDLE_FINGER_TIP].y < current_lh.landmark[HL.MIDDLE_FINGER_MCP].y and current_lh.landmark[HL.RING_FINGER_TIP].y < current_lh.landmark[HL.RING_FINGER_MCP].y \\\n",
        "          and current_lh.landmark[HL.PINKY_TIP].y < current_lh.landmark[HL.PINKY_TIP].y and lh_tip_distance < 0.015:\n",
        "          lh_stage = 'CLOSED'\n",
        "        else:\n",
        "          lh_stage = 'OPEN'\n",
        "        lh_orientation = orientation(current_lh.landmark[HL.WRIST], current_lh.landmark[HL.MIDDLE_FINGER_MCP])\n",
        "\n",
        "      if current_rh:\n",
        "        rh_tip_distance = euclidean_distance(current_rh.landmark[HL.INDEX_FINGER_TIP],current_rh.landmark[HL.THUMB_TIP])\n",
        "        if current_rh.landmark[HL.MIDDLE_FINGER_TIP].y < current_rh.landmark[HL.MIDDLE_FINGER_MCP].y and current_rh.landmark[HL.RING_FINGER_TIP].y < current_rh.landmark[HL.RING_FINGER_MCP].y \\\n",
        "          and current_rh.landmark[HL.PINKY_TIP].y < current_rh.landmark[HL.PINKY_TIP].y and rh_tip_distance < 0.015:\n",
        "          rh_stage = 'CLOSED'\n",
        "        else:\n",
        "          rh_stage = 'OPEN'\n",
        "        rh_orientation = orientation(current_rh.landmark[HL.WRIST], current_rh.landmark[HL.MIDDLE_FINGER_MCP])\n",
        "\n",
        "      ## Arm movements\n",
        "      # Calculate weather arm is up or down\n",
        "      la_angle = numpy_angle(current.landmark[PL.LEFT_WRIST], current.landmark[PL.LEFT_ELBOW], current.landmark[PL.LEFT_SHOULDER], width, height)\n",
        "      ra_angle = numpy_angle(current.landmark[PL.RIGHT_WRIST], current.landmark[PL.RIGHT_ELBOW], current.landmark[PL.RIGHT_SHOULDER], width, height)\n",
        "\n",
        "      if la_angle > 160:\n",
        "        la_vert = \"DOWN\"\n",
        "      if la_angle < 30 and la_vert =='DOWN':\n",
        "        la_vert=\"UP\"\n",
        "        la_counter +=1\n",
        "\n",
        "      if ra_angle > 160:\n",
        "        ra_vert = \"DOWN\"\n",
        "      if ra_angle < 30 and ra_vert =='DOWN':\n",
        "        ra_vert=\"UP\"\n",
        "        ra_counter +=1\n",
        "\n",
        "      # Calculate wheather arm is leaning forward\n",
        "      if abs(current.landmark[PL.RIGHT_WRIST].z) > abs(current.landmark[PL.RIGHT_ELBOW].z):\n",
        "        ra_leaning = 'FORWARD'\n",
        "      else:\n",
        "        ra_leaning = 'CALCULATING'\n",
        "\n",
        "      if abs(current.landmark[PL.LEFT_WRIST].z) > abs(current.landmark[PL.LEFT_ELBOW].z) :\n",
        "        la_leaning = 'FORWARD'\n",
        "      else:\n",
        "        la_leaning = 'CALCULATING'\n",
        "        \n",
        "      # write to output csv\n",
        "      # Calculate time in seconds\n",
        "      time_in_seconds = frame_number / fps  \n",
        "\n",
        "      # Write to CSV file\n",
        "      if frame_number % fps == 0:\n",
        "        total_movement = 0\n",
        "        frame_movement = 0\n",
        "        writer.writerow([time_in_seconds, \n",
        "                         frame_number, \n",
        "                         total_movement, \n",
        "                         openness_value, \n",
        "                         leaning_dir, \n",
        "                         head_horizontal,\n",
        "                         head_vertical,\n",
        "                         la_angle, \n",
        "                         la_vert, \n",
        "                         la_leaning, \n",
        "                         ra_angle, \n",
        "                         ra_vert, \n",
        "                         ra_leaning, \n",
        "                         lh_orientation, \n",
        "                         lh_stage, \n",
        "                         rh_orientation, \n",
        "                         rh_stage])\n",
        "\n",
        "      # write to output video\n",
        "      l1 = current.landmark[PL.LEFT_SHOULDER]\n",
        "      l2 = current.landmark[PL.LEFT_ELBOW]\n",
        "      l3 = current.landmark[PL.LEFT_WRIST]\n",
        "      r1 = current.landmark[PL.RIGHT_SHOULDER]\n",
        "      r2 = current.landmark[PL.RIGHT_ELBOW]\n",
        "      r3 = current.landmark[PL.RIGHT_WRIST]\n",
        "        \n",
        "      cv2.putText(frame, f\"Left shoulder:({round(l1.x,2)}, {round(l1.y,2)}, {round(l1.z,2)}) elbow:({round(l2.x,2)}, {round(l2.y,2)}, {round(l2.z,2)}) wrist: ({round(l3.x,2)}, {round(l3.y,2)}, {round(l3.z,2)})\", (10,30), cv2.FONT_HERSHEY_SIMPLEX, 0.7, (0, 255, 0), 2)\n",
        "      cv2.putText(frame, f\"Left arm: {la_vert}  {la_leaning}\", (10,60), cv2.FONT_HERSHEY_SIMPLEX, 0.7, (0, 255, 0), 2)\n",
        "      cv2.putText(frame, f\"Left arm angle: {la_angle:.2f}\", (10, 90), cv2.FONT_HERSHEY_SIMPLEX, 0.7, (0, 255, 0), 2)\n",
        "\n",
        "      cv2.putText(frame, f\"Right shoulder:({round(r1.x,2)}, {round(r1.y,2)}, {round(r1.z,2)}) elbow:({round(r2.x,2)}, {round(r2.y,2)}, {round(r2.z,2)}) wrist: ({round(r3.x,2)}, {round(r3.y,2)}, {round(r3.z,2)})\", (10,120), cv2.FONT_HERSHEY_SIMPLEX, 0.7, (255, 255, 0), 2)\n",
        "      cv2.putText(frame, f\"Right arm: {ra_vert}  {ra_leaning}\", (10,150), cv2.FONT_HERSHEY_SIMPLEX, 0.7, (255, 255, 0), 2)\n",
        "      cv2.putText(frame, f\"Right arm angle: {ra_angle:.4f}\", (10, 180), cv2.FONT_HERSHEY_SIMPLEX, 0.7, (255, 255, 0), 2)\n",
        "\n",
        "      cv2.putText(frame, f\"Left Hand: {lh_tip_distance} {lh_stage} {lh_orientation}\", (10, 210), cv2.FONT_HERSHEY_SIMPLEX, 0.7, (255, 255, 0), 2)\n",
        "      cv2.putText(frame, f\"Right Hand: {rh_tip_distance} {rh_stage} {rh_orientation}\", (10, 240), cv2.FONT_HERSHEY_SIMPLEX, 0.7, (255, 255, 0), 2)\n",
        "\n",
        "      cv2.putText(frame, f\"Total Movement Per Second: {total_movement:.2f}\", (10, 270), cv2.FONT_HERSHEY_SIMPLEX, 0.7, (255, 255, 255), 2)\n",
        "      cv2.putText(frame, f\"Openness: {openness_value:.2f}\", (10, 300), cv2.FONT_HERSHEY_SIMPLEX, 0.7, (255, 255, 255), 2)\n",
        "      cv2.putText(frame, f\"Leaning: {leaning_dir}\", (10, 330), cv2.FONT_HERSHEY_SIMPLEX, 0.7, (255, 255, 255), 2)\n",
        "\n",
        "      cv2.putText(frame, f\"Head Horizontal: {head_horizontal}\", (10, 360), cv2.FONT_HERSHEY_SIMPLEX, 0.7, (255, 0, 0), 2)\n",
        "      cv2.putText(frame, f\"Head Vertical: {head_vertical}\", (10, 390), cv2.FONT_HERSHEY_SIMPLEX, 0.7, (255, 0, 0), 2)\n",
        "      \n",
        "      # update variables\n",
        "      prev_landmarks = results.pose_landmarks\n",
        "      frame_number += 1\n",
        "\n",
        "    # Save the frame\n",
        "    out.write(frame)\n",
        "\n",
        "  out.release()"
      ]
    },
    {
      "attachments": {},
      "cell_type": "markdown",
      "metadata": {
        "id": "jpC8RI9ntBC2"
      },
      "source": [
        "### Transcript & Acoustic"
      ]
    },
    {
      "cell_type": "code",
      "execution_count": 73,
      "metadata": {
        "colab": {
          "base_uri": "https://localhost:8080/"
        },
        "id": "z5dV_xFctNBa",
        "outputId": "f3ab6ef0-5f72-400a-853f-6c077de9f205"
      },
      "outputs": [
        {
          "name": "stderr",
          "output_type": "stream",
          "text": [
            "                                                                   \n",
            "t:  39%|███▉      | 13964/35964 [53:12<02:39, 138.25it/s, now=None] "
          ]
        },
        {
          "name": "stdout",
          "output_type": "stream",
          "text": [
            "MoviePy - Writing audio in temp_audio.wav\n"
          ]
        },
        {
          "name": "stderr",
          "output_type": "stream",
          "text": [
            "\n",
            "\u001b[A\n",
            "                                                                   \n",
            "t:  39%|███▉      | 13964/35964 [53:12<02:39, 138.25it/s, now=None] "
          ]
        },
        {
          "name": "stdout",
          "output_type": "stream",
          "text": [
            "MoviePy - Done.\n"
          ]
        },
        {
          "name": "stderr",
          "output_type": "stream",
          "text": [
            "                                                                   \n",
            "t:  39%|███▉      | 13964/35964 [53:14<02:39, 138.25it/s, now=None] "
          ]
        },
        {
          "name": "stdout",
          "output_type": "stream",
          "text": [
            "MoviePy - Writing audio in temp_audio.wav\n"
          ]
        },
        {
          "name": "stderr",
          "output_type": "stream",
          "text": [
            "\n",
            "\u001b[A\n",
            "                                                                   \n",
            "t:  39%|███▉      | 13964/35964 [53:14<02:39, 138.25it/s, now=None] "
          ]
        },
        {
          "name": "stdout",
          "output_type": "stream",
          "text": [
            "MoviePy - Done.\n"
          ]
        },
        {
          "name": "stderr",
          "output_type": "stream",
          "text": [
            "                                                                   \n",
            "t:  39%|███▉      | 13964/35964 [53:15<02:39, 138.25it/s, now=None] "
          ]
        },
        {
          "name": "stdout",
          "output_type": "stream",
          "text": [
            "MoviePy - Writing audio in temp_audio.wav\n"
          ]
        },
        {
          "name": "stderr",
          "output_type": "stream",
          "text": [
            "\n",
            "\u001b[A\n",
            "                                                                   \n",
            "t:  39%|███▉      | 13964/35964 [53:15<02:39, 138.25it/s, now=None] "
          ]
        },
        {
          "name": "stdout",
          "output_type": "stream",
          "text": [
            "MoviePy - Done.\n"
          ]
        },
        {
          "name": "stderr",
          "output_type": "stream",
          "text": [
            "                                                                   \n",
            "t:  39%|███▉      | 13964/35964 [53:16<02:39, 138.25it/s, now=None] "
          ]
        },
        {
          "name": "stdout",
          "output_type": "stream",
          "text": [
            "MoviePy - Writing audio in temp_audio.wav\n"
          ]
        },
        {
          "name": "stderr",
          "output_type": "stream",
          "text": [
            "\n",
            "\u001b[A\n",
            "                                                                   \n",
            "t:  39%|███▉      | 13964/35964 [53:16<02:39, 138.25it/s, now=None] "
          ]
        },
        {
          "name": "stdout",
          "output_type": "stream",
          "text": [
            "MoviePy - Done.\n"
          ]
        },
        {
          "name": "stderr",
          "output_type": "stream",
          "text": [
            "                                                                   \n",
            "t:  39%|███▉      | 13964/35964 [53:17<02:39, 138.25it/s, now=None] "
          ]
        },
        {
          "name": "stdout",
          "output_type": "stream",
          "text": [
            "MoviePy - Writing audio in temp_audio.wav\n"
          ]
        },
        {
          "name": "stderr",
          "output_type": "stream",
          "text": [
            "\n",
            "\u001b[A\n",
            "                                                                   \n",
            "t:  39%|███▉      | 13964/35964 [53:17<02:39, 138.25it/s, now=None] "
          ]
        },
        {
          "name": "stdout",
          "output_type": "stream",
          "text": [
            "MoviePy - Done.\n"
          ]
        },
        {
          "name": "stderr",
          "output_type": "stream",
          "text": [
            "                                                                   \n",
            "t:  39%|███▉      | 13964/35964 [53:19<02:39, 138.25it/s, now=None] "
          ]
        },
        {
          "name": "stdout",
          "output_type": "stream",
          "text": [
            "MoviePy - Writing audio in temp_audio.wav\n"
          ]
        },
        {
          "name": "stderr",
          "output_type": "stream",
          "text": [
            "\n",
            "\u001b[A\n",
            "                                                                   \n",
            "t:  39%|███▉      | 13964/35964 [53:19<02:39, 138.25it/s, now=None] "
          ]
        },
        {
          "name": "stdout",
          "output_type": "stream",
          "text": [
            "MoviePy - Done.\n"
          ]
        },
        {
          "name": "stderr",
          "output_type": "stream",
          "text": [
            "                                                                   \n",
            "t:  39%|███▉      | 13964/35964 [53:22<02:39, 138.25it/s, now=None] "
          ]
        },
        {
          "name": "stdout",
          "output_type": "stream",
          "text": [
            "MoviePy - Writing audio in temp_audio.wav\n"
          ]
        },
        {
          "name": "stderr",
          "output_type": "stream",
          "text": [
            "\n",
            "\u001b[A\n",
            "                                                                   \n",
            "t:  39%|███▉      | 13964/35964 [53:22<02:39, 138.25it/s, now=None] "
          ]
        },
        {
          "name": "stdout",
          "output_type": "stream",
          "text": [
            "MoviePy - Done.\n"
          ]
        },
        {
          "name": "stderr",
          "output_type": "stream",
          "text": [
            "                                                                   \n",
            "t:  39%|███▉      | 13964/35964 [53:24<02:39, 138.25it/s, now=None] "
          ]
        },
        {
          "name": "stdout",
          "output_type": "stream",
          "text": [
            "MoviePy - Writing audio in temp_audio.wav\n"
          ]
        },
        {
          "name": "stderr",
          "output_type": "stream",
          "text": [
            "\n",
            "\u001b[A\n",
            "                                                                   \n",
            "t:  39%|███▉      | 13964/35964 [53:24<02:39, 138.25it/s, now=None] "
          ]
        },
        {
          "name": "stdout",
          "output_type": "stream",
          "text": [
            "MoviePy - Done.\n"
          ]
        },
        {
          "name": "stderr",
          "output_type": "stream",
          "text": [
            "                                                                   \n",
            "t:  39%|███▉      | 13964/35964 [53:26<02:39, 138.25it/s, now=None] "
          ]
        },
        {
          "name": "stdout",
          "output_type": "stream",
          "text": [
            "MoviePy - Writing audio in temp_audio.wav\n"
          ]
        },
        {
          "name": "stderr",
          "output_type": "stream",
          "text": [
            "\n",
            "\u001b[A\n",
            "                                                                   \n",
            "t:  39%|███▉      | 13964/35964 [53:27<02:39, 138.25it/s, now=None] "
          ]
        },
        {
          "name": "stdout",
          "output_type": "stream",
          "text": [
            "MoviePy - Done.\n"
          ]
        },
        {
          "name": "stderr",
          "output_type": "stream",
          "text": [
            "                                                                   \n",
            "t:  39%|███▉      | 13964/35964 [53:29<02:39, 138.25it/s, now=None] "
          ]
        },
        {
          "name": "stdout",
          "output_type": "stream",
          "text": [
            "MoviePy - Writing audio in temp_audio.wav\n"
          ]
        },
        {
          "name": "stderr",
          "output_type": "stream",
          "text": [
            "\n",
            "\u001b[A\n",
            "                                                                   \n",
            "t:  39%|███▉      | 13964/35964 [53:29<02:39, 138.25it/s, now=None] "
          ]
        },
        {
          "name": "stdout",
          "output_type": "stream",
          "text": [
            "MoviePy - Done.\n"
          ]
        },
        {
          "name": "stderr",
          "output_type": "stream",
          "text": [
            "                                                                   \n",
            "t:  39%|███▉      | 13964/35964 [53:31<02:39, 138.25it/s, now=None] "
          ]
        },
        {
          "name": "stdout",
          "output_type": "stream",
          "text": [
            "MoviePy - Writing audio in temp_audio.wav\n"
          ]
        },
        {
          "name": "stderr",
          "output_type": "stream",
          "text": [
            "\n",
            "\u001b[A\n",
            "                                                                   \n",
            "t:  39%|███▉      | 13964/35964 [53:31<02:39, 138.25it/s, now=None] "
          ]
        },
        {
          "name": "stdout",
          "output_type": "stream",
          "text": [
            "MoviePy - Done.\n"
          ]
        },
        {
          "name": "stderr",
          "output_type": "stream",
          "text": [
            "                                                                   \n",
            "t:  39%|███▉      | 13964/35964 [53:34<02:39, 138.25it/s, now=None] "
          ]
        },
        {
          "name": "stdout",
          "output_type": "stream",
          "text": [
            "MoviePy - Writing audio in temp_audio.wav\n"
          ]
        },
        {
          "name": "stderr",
          "output_type": "stream",
          "text": [
            "\n",
            "\u001b[A\n",
            "                                                                   \n",
            "t:  39%|███▉      | 13964/35964 [53:34<02:39, 138.25it/s, now=None] "
          ]
        },
        {
          "name": "stdout",
          "output_type": "stream",
          "text": [
            "MoviePy - Done.\n"
          ]
        },
        {
          "name": "stderr",
          "output_type": "stream",
          "text": [
            "                                                                   \n",
            "t:  39%|███▉      | 13964/35964 [53:35<02:39, 138.25it/s, now=None] "
          ]
        },
        {
          "name": "stdout",
          "output_type": "stream",
          "text": [
            "MoviePy - Writing audio in temp_audio.wav\n"
          ]
        },
        {
          "name": "stderr",
          "output_type": "stream",
          "text": [
            "\n",
            "\u001b[A\n",
            "                                                                   \n",
            "t:  39%|███▉      | 13964/35964 [53:35<02:39, 138.25it/s, now=None] "
          ]
        },
        {
          "name": "stdout",
          "output_type": "stream",
          "text": [
            "MoviePy - Done.\n"
          ]
        },
        {
          "name": "stderr",
          "output_type": "stream",
          "text": [
            "                                                                   \n",
            "t:  39%|███▉      | 13964/35964 [53:40<02:39, 138.25it/s, now=None] "
          ]
        },
        {
          "name": "stdout",
          "output_type": "stream",
          "text": [
            "MoviePy - Writing audio in temp_audio.wav\n"
          ]
        },
        {
          "name": "stderr",
          "output_type": "stream",
          "text": [
            "\n",
            "\u001b[A\n",
            "                                                                   \n",
            "t:  39%|███▉      | 13964/35964 [53:40<02:39, 138.25it/s, now=None] "
          ]
        },
        {
          "name": "stdout",
          "output_type": "stream",
          "text": [
            "MoviePy - Done.\n"
          ]
        },
        {
          "name": "stderr",
          "output_type": "stream",
          "text": [
            "                                                                   \n",
            "t:  39%|███▉      | 13964/35964 [53:43<02:39, 138.25it/s, now=None] "
          ]
        },
        {
          "name": "stdout",
          "output_type": "stream",
          "text": [
            "MoviePy - Writing audio in temp_audio.wav\n"
          ]
        },
        {
          "name": "stderr",
          "output_type": "stream",
          "text": [
            "\n",
            "\u001b[A\n",
            "                                                                   \n",
            "t:  39%|███▉      | 13964/35964 [53:43<02:39, 138.25it/s, now=None] "
          ]
        },
        {
          "name": "stdout",
          "output_type": "stream",
          "text": [
            "MoviePy - Done.\n"
          ]
        },
        {
          "name": "stderr",
          "output_type": "stream",
          "text": [
            "                                                                   \n",
            "t:  39%|███▉      | 13964/35964 [53:46<02:39, 138.25it/s, now=None] "
          ]
        },
        {
          "name": "stdout",
          "output_type": "stream",
          "text": [
            "MoviePy - Writing audio in temp_audio.wav\n"
          ]
        },
        {
          "name": "stderr",
          "output_type": "stream",
          "text": [
            "\n",
            "\u001b[A\n",
            "                                                                   \n",
            "t:  39%|███▉      | 13964/35964 [53:47<02:39, 138.25it/s, now=None] "
          ]
        },
        {
          "name": "stdout",
          "output_type": "stream",
          "text": [
            "MoviePy - Done.\n"
          ]
        },
        {
          "name": "stderr",
          "output_type": "stream",
          "text": [
            "                                                                   \n",
            "t:  39%|███▉      | 13964/35964 [53:48<02:39, 138.25it/s, now=None] "
          ]
        },
        {
          "name": "stdout",
          "output_type": "stream",
          "text": [
            "MoviePy - Writing audio in temp_audio.wav\n"
          ]
        },
        {
          "name": "stderr",
          "output_type": "stream",
          "text": [
            "\n",
            "\u001b[A\n",
            "                                                                   \n",
            "t:  39%|███▉      | 13964/35964 [53:48<02:39, 138.25it/s, now=None] "
          ]
        },
        {
          "name": "stdout",
          "output_type": "stream",
          "text": [
            "MoviePy - Done.\n"
          ]
        },
        {
          "name": "stderr",
          "output_type": "stream",
          "text": [
            "                                                                   \n",
            "t:  39%|███▉      | 13964/35964 [53:52<02:39, 138.25it/s, now=None] "
          ]
        },
        {
          "name": "stdout",
          "output_type": "stream",
          "text": [
            "MoviePy - Writing audio in temp_audio.wav\n"
          ]
        },
        {
          "name": "stderr",
          "output_type": "stream",
          "text": [
            "\n",
            "\u001b[A\n",
            "                                                                   \n",
            "t:  39%|███▉      | 13964/35964 [53:52<02:39, 138.25it/s, now=None] "
          ]
        },
        {
          "name": "stdout",
          "output_type": "stream",
          "text": [
            "MoviePy - Done.\n"
          ]
        },
        {
          "name": "stderr",
          "output_type": "stream",
          "text": [
            "                                                                   \n",
            "t:  39%|███▉      | 13964/35964 [53:55<02:39, 138.25it/s, now=None] "
          ]
        },
        {
          "name": "stdout",
          "output_type": "stream",
          "text": [
            "MoviePy - Writing audio in temp_audio.wav\n"
          ]
        },
        {
          "name": "stderr",
          "output_type": "stream",
          "text": [
            "\n",
            "\u001b[A\n",
            "                                                                   \n",
            "t:  39%|███▉      | 13964/35964 [53:56<02:39, 138.25it/s, now=None] "
          ]
        },
        {
          "name": "stdout",
          "output_type": "stream",
          "text": [
            "MoviePy - Done.\n"
          ]
        },
        {
          "name": "stderr",
          "output_type": "stream",
          "text": [
            "                                                                   \n",
            "t:  39%|███▉      | 13964/35964 [53:58<02:39, 138.25it/s, now=None] "
          ]
        },
        {
          "name": "stdout",
          "output_type": "stream",
          "text": [
            "MoviePy - Writing audio in temp_audio.wav\n"
          ]
        },
        {
          "name": "stderr",
          "output_type": "stream",
          "text": [
            "\n",
            "\u001b[A\n",
            "                                                                   \n",
            "t:  39%|███▉      | 13964/35964 [53:58<02:39, 138.25it/s, now=None] "
          ]
        },
        {
          "name": "stdout",
          "output_type": "stream",
          "text": [
            "MoviePy - Done.\n"
          ]
        },
        {
          "name": "stderr",
          "output_type": "stream",
          "text": [
            "                                                                   \n",
            "t:  39%|███▉      | 13964/35964 [54:00<02:39, 138.25it/s, now=None] "
          ]
        },
        {
          "name": "stdout",
          "output_type": "stream",
          "text": [
            "MoviePy - Writing audio in temp_audio.wav\n"
          ]
        },
        {
          "name": "stderr",
          "output_type": "stream",
          "text": [
            "\n",
            "\u001b[A\n",
            "                                                                   \n",
            "t:  39%|███▉      | 13964/35964 [54:00<02:39, 138.25it/s, now=None] "
          ]
        },
        {
          "name": "stdout",
          "output_type": "stream",
          "text": [
            "MoviePy - Done.\n"
          ]
        },
        {
          "name": "stderr",
          "output_type": "stream",
          "text": [
            "                                                                   \n",
            "t:  39%|███▉      | 13964/35964 [54:02<02:39, 138.25it/s, now=None] "
          ]
        },
        {
          "name": "stdout",
          "output_type": "stream",
          "text": [
            "MoviePy - Writing audio in temp_audio.wav\n"
          ]
        },
        {
          "name": "stderr",
          "output_type": "stream",
          "text": [
            "\n",
            "\u001b[A\n",
            "                                                                   \n",
            "t:  39%|███▉      | 13964/35964 [54:02<02:39, 138.25it/s, now=None] "
          ]
        },
        {
          "name": "stdout",
          "output_type": "stream",
          "text": [
            "MoviePy - Done.\n"
          ]
        },
        {
          "name": "stderr",
          "output_type": "stream",
          "text": [
            "                                                                   \n",
            "t:  39%|███▉      | 13964/35964 [54:03<02:39, 138.25it/s, now=None] "
          ]
        },
        {
          "name": "stdout",
          "output_type": "stream",
          "text": [
            "MoviePy - Writing audio in temp_audio.wav\n"
          ]
        },
        {
          "name": "stderr",
          "output_type": "stream",
          "text": [
            "\n",
            "\u001b[A\n",
            "                                                                   \n",
            "t:  39%|███▉      | 13964/35964 [54:03<02:39, 138.25it/s, now=None] "
          ]
        },
        {
          "name": "stdout",
          "output_type": "stream",
          "text": [
            "MoviePy - Done.\n"
          ]
        },
        {
          "name": "stderr",
          "output_type": "stream",
          "text": [
            "                                                                   \n",
            "t:  39%|███▉      | 13964/35964 [54:05<02:39, 138.25it/s, now=None] "
          ]
        },
        {
          "name": "stdout",
          "output_type": "stream",
          "text": [
            "MoviePy - Writing audio in temp_audio.wav\n"
          ]
        },
        {
          "name": "stderr",
          "output_type": "stream",
          "text": [
            "\n",
            "\u001b[A\n",
            "                                                                   \n",
            "t:  39%|███▉      | 13964/35964 [54:05<02:39, 138.25it/s, now=None] "
          ]
        },
        {
          "name": "stdout",
          "output_type": "stream",
          "text": [
            "MoviePy - Done.\n"
          ]
        },
        {
          "name": "stderr",
          "output_type": "stream",
          "text": [
            "                                                                   \n",
            "t:  39%|███▉      | 13964/35964 [54:08<02:39, 138.25it/s, now=None] "
          ]
        },
        {
          "name": "stdout",
          "output_type": "stream",
          "text": [
            "MoviePy - Writing audio in temp_audio.wav\n"
          ]
        },
        {
          "name": "stderr",
          "output_type": "stream",
          "text": [
            "\n",
            "\u001b[A\n",
            "                                                                   \n",
            "t:  39%|███▉      | 13964/35964 [54:08<02:39, 138.25it/s, now=None] "
          ]
        },
        {
          "name": "stdout",
          "output_type": "stream",
          "text": [
            "MoviePy - Done.\n"
          ]
        },
        {
          "name": "stderr",
          "output_type": "stream",
          "text": [
            "                                                                   \n",
            "t:  39%|███▉      | 13964/35964 [54:11<02:39, 138.25it/s, now=None] "
          ]
        },
        {
          "name": "stdout",
          "output_type": "stream",
          "text": [
            "MoviePy - Writing audio in temp_audio.wav\n"
          ]
        },
        {
          "name": "stderr",
          "output_type": "stream",
          "text": [
            "\n",
            "\u001b[A\n",
            "                                                                   \n",
            "t:  39%|███▉      | 13964/35964 [54:11<02:39, 138.25it/s, now=None] "
          ]
        },
        {
          "name": "stdout",
          "output_type": "stream",
          "text": [
            "MoviePy - Done.\n"
          ]
        },
        {
          "name": "stderr",
          "output_type": "stream",
          "text": [
            "                                                                   \n",
            "t:  39%|███▉      | 13964/35964 [54:14<02:39, 138.25it/s, now=None] "
          ]
        },
        {
          "name": "stdout",
          "output_type": "stream",
          "text": [
            "MoviePy - Writing audio in temp_audio.wav\n"
          ]
        },
        {
          "name": "stderr",
          "output_type": "stream",
          "text": [
            "\n",
            "\u001b[A\n",
            "                                                                   \n",
            "t:  39%|███▉      | 13964/35964 [54:14<02:39, 138.25it/s, now=None] "
          ]
        },
        {
          "name": "stdout",
          "output_type": "stream",
          "text": [
            "MoviePy - Done.\n"
          ]
        },
        {
          "name": "stderr",
          "output_type": "stream",
          "text": [
            "                                                                   \n",
            "t:  39%|███▉      | 13964/35964 [54:16<02:39, 138.25it/s, now=None] "
          ]
        },
        {
          "name": "stdout",
          "output_type": "stream",
          "text": [
            "MoviePy - Writing audio in temp_audio.wav\n"
          ]
        },
        {
          "name": "stderr",
          "output_type": "stream",
          "text": [
            "\n",
            "\u001b[A\n",
            "                                                                   \n",
            "t:  39%|███▉      | 13964/35964 [54:16<02:39, 138.25it/s, now=None] "
          ]
        },
        {
          "name": "stdout",
          "output_type": "stream",
          "text": [
            "MoviePy - Done.\n"
          ]
        },
        {
          "name": "stderr",
          "output_type": "stream",
          "text": [
            "                                                                   \n",
            "t:  39%|███▉      | 13964/35964 [54:18<02:39, 138.25it/s, now=None] "
          ]
        },
        {
          "name": "stdout",
          "output_type": "stream",
          "text": [
            "MoviePy - Writing audio in temp_audio.wav\n"
          ]
        },
        {
          "name": "stderr",
          "output_type": "stream",
          "text": [
            "\n",
            "\u001b[A\n",
            "                                                                   \n",
            "t:  39%|███▉      | 13964/35964 [54:18<02:39, 138.25it/s, now=None] "
          ]
        },
        {
          "name": "stdout",
          "output_type": "stream",
          "text": [
            "MoviePy - Done.\n"
          ]
        },
        {
          "name": "stderr",
          "output_type": "stream",
          "text": [
            "                                                                   \n",
            "t:  39%|███▉      | 13964/35964 [54:21<02:39, 138.25it/s, now=None] "
          ]
        },
        {
          "name": "stdout",
          "output_type": "stream",
          "text": [
            "MoviePy - Writing audio in temp_audio.wav\n"
          ]
        },
        {
          "name": "stderr",
          "output_type": "stream",
          "text": [
            "\n",
            "\u001b[A\n",
            "                                                                   \n",
            "t:  39%|███▉      | 13964/35964 [54:21<02:39, 138.25it/s, now=None] "
          ]
        },
        {
          "name": "stdout",
          "output_type": "stream",
          "text": [
            "MoviePy - Done.\n"
          ]
        }
      ],
      "source": [
        "# Load the video\n",
        "clip = VideoFileClip(video_cut)\n",
        "\n",
        "# Initialize the output CSV File\n",
        "with open(output_audio_csv, 'w', newline='') as file:\n",
        "    writer = csv.writer(file)\n",
        "    writer.writerow([\"time\", \"avg_pitch\", \"avg_intensity\", \"transcription\"])\n",
        "\n",
        "# Initialize the speech recognizer\n",
        "r = sr.Recognizer()\n",
        "\n",
        "# Process the audio one second at a time\n",
        "for i in range(0, int(clip.duration), 10):\n",
        "    # Extract one second of audio\n",
        "    audio_segment = clip.subclip(i, i + 10).audio\n",
        "    if audio_segment is None:\n",
        "        continue\n",
        "    audio_segment.write_audiofile(\"temp_audio.wav\")\n",
        "\n",
        "    # Load the audio file with librosa\n",
        "    y, sampling_rate = librosa.load(\"temp_audio.wav\")\n",
        "\n",
        "    # Calculate pitch with librosa\n",
        "    pitches, magnitudes = librosa.piptrack(y=y, sr=sampling_rate)\n",
        "\n",
        "    # Calculate average pitch and intensity for this second\n",
        "    avg_pitch = pitches.mean()\n",
        "    avg_intensity = magnitudes.mean()\n",
        "\n",
        "    # Transcribe the audio with SpeechRecognition\n",
        "    with sr.AudioFile(\"temp_audio.wav\") as source:\n",
        "        audio = r.record(source, duration=10)  # read the entire audio file                  \n",
        "        try:\n",
        "            transcription = r.recognize_google(audio)\n",
        "        except sr.UnknownValueError:\n",
        "            transcription = \"\"\n",
        "        except sr.RequestError as e:\n",
        "            print(f\"Could not request results from Google Speech Recognition service; {e}\")\n",
        "            transcription = \"\"\n",
        "\n",
        "    # Write the features to the CSV\n",
        "    with open(output_audio_csv, 'a', newline='') as file:\n",
        "        writer = csv.writer(file)\n",
        "        writer.writerow([i, avg_pitch, avg_intensity, transcription])"
      ]
    },
    {
      "attachments": {},
      "cell_type": "markdown",
      "metadata": {},
      "source": [
        "# Cross Modality Features"
      ]
    },
    {
      "cell_type": "code",
      "execution_count": 90,
      "metadata": {},
      "outputs": [
        {
          "name": "stdout",
          "output_type": "stream",
          "text": [
            "contradiction\n",
            "STILL ['have', 'you', 'ever', 'been', 'married', 'do', 'you', 'have', 'any', 'children', 'and', 'where', 'are', 'you', 'living', 'right', 'now']\n",
            "contradiction\n",
            "LEFT ['have', 'you', 'ever', 'been', 'married', 'do', 'you', 'have', 'any', 'children', 'and', 'where', 'are', 'you', 'living', 'right', 'now']\n",
            "contradiction\n",
            "STILL ['have', 'you', 'ever', 'been', 'married', 'do', 'you', 'have', 'any', 'children', 'and', 'where', 'are', 'you', 'living', 'right', 'now']\n",
            "contradiction\n",
            "STILL ['have', 'you', 'ever', 'been', 'married', 'do', 'you', 'have', 'any', 'children', 'and', 'where', 'are', 'you', 'living', 'right', 'now']\n",
            "contradiction\n",
            "Up ['have', 'you', 'ever', 'been', 'married', 'do', 'you', 'have', 'any', 'children', 'and', 'where', 'are', 'you', 'living', 'right', 'now']\n",
            "contradiction\n",
            "STILL ['have', 'you', 'ever', 'been', 'married', 'do', 'you', 'have', 'any', 'children', 'and', 'where', 'are', 'you', 'living', 'right', 'now']\n",
            "contradiction\n",
            "STILL ['have', 'you', 'ever', 'been', 'married', 'do', 'you', 'have', 'any', 'children', 'and', 'where', 'are', 'you', 'living', 'right', 'now']\n",
            "contradiction\n",
            "STILL ['have', 'you', 'ever', 'been', 'married', 'do', 'you', 'have', 'any', 'children', 'and', 'where', 'are', 'you', 'living', 'right', 'now']\n",
            "contradiction\n",
            "Up ['have', 'you', 'ever', 'been', 'married', 'do', 'you', 'have', 'any', 'children', 'and', 'where', 'are', 'you', 'living', 'right', 'now']\n",
            "contradiction\n",
            "STILL ['have', 'you', 'ever', 'been', 'married', 'do', 'you', 'have', 'any', 'children', 'and', 'where', 'are', 'you', 'living', 'right', 'now']\n"
          ]
        }
      ],
      "source": [
        "# First, ensure both 'time' columns are sorted in ascending order\n",
        "df_gesture = pd.read_csv('../output/3035post-gesture.csv')\n",
        "df_acoustic = pd.read_csv('../output/3035post-acoustic.csv')\n",
        "\n",
        "df_gesture = df_gesture.rename(columns={'time_in_seconds': 'time'})\n",
        "df_gesture['time'] = df_gesture['time'].astype(int)\n",
        "df_acoustic['time'] = df_acoustic['time'].astype(int)\n",
        "df_acoustic['transcription'] = df_acoustic['transcription'].astype(str)\n",
        "df_gesture = df_gesture.sort_values('time')\n",
        "df_acoustic = df_acoustic.sort_values('time')\n",
        "\n",
        "# Use merge_asof to merge\n",
        "df = pd.merge_asof(df_gesture, df_acoustic, on='time', direction='backward')\n",
        "\n",
        "# print(df)\n",
        "# Define the correspondence between words and gestures\n",
        "word_gesture_map = {\n",
        "    'up': {'head_vertical': 'up', \n",
        "           'left_arm_v_movement': 'up', \n",
        "           'right_arm_v_movement': 'up',  \n",
        "           'left_hand_orientation': 'up',\n",
        "           'right_hand_orientation': 'up'},\n",
        "    'down': {'head_vertical': 'down', \n",
        "             'left_arm_v_movement': 'down', \n",
        "             'right_arm_v_movement': 'down', \n",
        "             'left_hand_orientation': 'down', \n",
        "             'right_hand_orientation': 'down'},\n",
        "    'left': {'head_horizontal': 'left',  \n",
        "             'left_hand_orientation': 'left',\n",
        "             'right_hand_orientation': 'left'},\n",
        "    'right': {'head_horizontal': 'right', \n",
        "              'left_hand_orientation': 'right',\n",
        "              'right_hand_orientation': 'right'},\n",
        "    'open': {'left_hand_state': 'open',\n",
        "             'right_hand_state': 'open'},\n",
        "    'closed': {'left_hand_state': 'closed', \n",
        "               'right_hand_state': 'closed'},\n",
        "    'forward': {'leaning': 'forward',\n",
        "                'left_arm_h_movement': 'forward',\n",
        "                'right_arm_h_movement': 'forward'},\n",
        "    'backward': {'leaning': 'backward'}\n",
        "}\n",
        "\n",
        "def detect_contradictions(row):\n",
        "    # Extract the words from the transcript\n",
        "    words = row['transcription'].split()\n",
        "    \n",
        "    for word in words:\n",
        "        if word in word_gesture_map:\n",
        "            # Get the expected gestures for this word\n",
        "            expected_gestures = word_gesture_map[word]\n",
        "            \n",
        "            # Compare the expected gestures with the actual gestures\n",
        "            for gesture, expected_value in expected_gestures.items():\n",
        "                if row[gesture].upper() != expected_value.upper():\n",
        "                    # There is a contradiction, output the row\n",
        "                    print('contradiction')\n",
        "                    print(row[gesture], words)\n",
        "                    return row\n",
        "\n",
        "# Apply the function to each row\n",
        "contradictions = df.apply(detect_contradictions, axis=1)\n",
        "\n",
        "# Drop the rows where no contradiction was found\n",
        "contradictions.dropna(how='all', inplace=True)"
      ]
    },
    {
      "cell_type": "code",
      "execution_count": null,
      "metadata": {},
      "outputs": [],
      "source": []
    }
  ],
  "metadata": {
    "colab": {
      "provenance": []
    },
    "kernelspec": {
      "display_name": "Python 3",
      "name": "python3"
    },
    "language_info": {
      "codemirror_mode": {
        "name": "ipython",
        "version": 3
      },
      "file_extension": ".py",
      "mimetype": "text/x-python",
      "name": "python",
      "nbconvert_exporter": "python",
      "pygments_lexer": "ipython3",
      "version": "3.10.10"
    }
  },
  "nbformat": 4,
  "nbformat_minor": 0
}
