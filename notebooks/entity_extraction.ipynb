{
  "nbformat": 4,
  "nbformat_minor": 0,
  "metadata": {
    "colab": {
      "provenance": []
    },
    "kernelspec": {
      "name": "python3",
      "display_name": "Python 3"
    },
    "language_info": {
      "name": "python"
    }
  },
  "cells": [
    {
      "cell_type": "code",
      "source": [
        "import spacy"
      ],
      "metadata": {
        "id": "FaT7c_VGZjkA"
      },
      "execution_count": 3,
      "outputs": []
    },
    {
      "cell_type": "code",
      "execution_count": 4,
      "metadata": {
        "id": "BfgPnWotZiR8",
        "outputId": "6bd81da6-f415-4858-cb08-f06c40046413",
        "colab": {
          "base_uri": "https://localhost:8080/"
        }
      },
      "outputs": [
        {
          "output_type": "stream",
          "name": "stdout",
          "text": [
            "('Apple Inc.', 'ORG')\n",
            "('Steve Jobs', 'PERSON')\n",
            "('Steve Wozniak', 'PERSON')\n",
            "('Ronald Wayne', 'PERSON')\n"
          ]
        }
      ],
      "source": [
        "def extract_entities(text):\n",
        "    # Load the spaCy English model\n",
        "    nlp = spacy.load('en_core_web_sm')\n",
        "    \n",
        "    # Process the text\n",
        "    doc = nlp(text)\n",
        "    \n",
        "    # Extract named entities\n",
        "    entities = []\n",
        "    for ent in doc.ents:\n",
        "        entities.append((ent.text, ent.label_))\n",
        "    \n",
        "    return entities\n",
        "\n",
        "# Example usage\n",
        "text = \"Apple Inc. was founded by Steve Jobs, Steve Wozniak, and Ronald Wayne.\"\n",
        "entities = extract_entities(text)\n",
        "for entity in entities:\n",
        "    print(entity)"
      ]
    }
  ]
}