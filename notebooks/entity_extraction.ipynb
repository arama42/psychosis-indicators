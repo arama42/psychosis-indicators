{
  "cells": [
    {
      "cell_type": "code",
      "execution_count": 3,
      "metadata": {
        "id": "FaT7c_VGZjkA"
      },
      "outputs": [],
      "source": [
        "import spacy"
      ]
    },
    {
      "cell_type": "code",
      "execution_count": 4,
      "metadata": {
        "colab": {
          "base_uri": "https://localhost:8080/"
        },
        "id": "BfgPnWotZiR8",
        "outputId": "6bd81da6-f415-4858-cb08-f06c40046413"
      },
      "outputs": [
        {
          "name": "stdout",
          "output_type": "stream",
          "text": [
            "('Apple Inc.', 'ORG')\n",
            "('Steve Jobs', 'PERSON')\n",
            "('Steve Wozniak', 'PERSON')\n",
            "('Ronald Wayne', 'PERSON')\n"
          ]
        }
      ],
      "source": [
        "def extract_entities(text):\n",
        "    # Load the spaCy English model\n",
        "    nlp = spacy.load('en_core_web_sm')\n",
        "    \n",
        "    # Process the text\n",
        "    doc = nlp(text)\n",
        "    \n",
        "    # Extract named entities\n",
        "    entities = []\n",
        "    for ent in doc.ents:\n",
        "        entities.append((ent.text, ent.label_))\n",
        "    \n",
        "    return entities\n",
        "\n",
        "# Example usage\n",
        "text = \"Apple Inc. was founded by Steve Jobs, Steve Wozniak, and Ronald Wayne.\"\n",
        "entities = extract_entities(text)\n",
        "for entity in entities:\n",
        "    print(entity)"
      ]
    }
  ],
  "metadata": {
    "colab": {
      "provenance": []
    },
    "kernelspec": {
      "display_name": "Python 3",
      "name": "python3"
    },
    "language_info": {
      "name": "python"
    }
  },
  "nbformat": 4,
  "nbformat_minor": 0
}
